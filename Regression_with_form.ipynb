{
 "cells": [
  {
   "cell_type": "code",
   "execution_count": 1,
   "metadata": {},
   "outputs": [],
   "source": [
    "import pandas as pd\n",
    "import numpy as np\n",
    "import matplotlib as plt"
   ]
  },
  {
   "cell_type": "code",
   "execution_count": null,
   "metadata": {},
   "outputs": [],
   "source": [
    "import warnings\n",
    "warnings.filterwarnings('ignore')"
   ]
  },
  {
   "cell_type": "code",
   "execution_count": 2,
   "metadata": {},
   "outputs": [],
   "source": [
    "pd.set_option('display.max_columns', None)"
   ]
  },
  {
   "cell_type": "code",
   "execution_count": 3,
   "metadata": {},
   "outputs": [],
   "source": [
    "stats = pd.read_csv('data/D1.csv')"
   ]
  },
  {
   "cell_type": "code",
   "execution_count": 4,
   "metadata": {},
   "outputs": [],
   "source": [
    "stats['Date'] = pd.to_datetime(stats['Date'], infer_datetime_format=True)"
   ]
  },
  {
   "cell_type": "code",
   "execution_count": 5,
   "metadata": {},
   "outputs": [],
   "source": [
    "tables = pd.read_html('https://fbref.com/en/comps/20/Bundesliga-Stats')"
   ]
  },
  {
   "cell_type": "code",
   "execution_count": 6,
   "metadata": {},
   "outputs": [],
   "source": [
    "form_df = tables[0]"
   ]
  },
  {
   "cell_type": "code",
   "execution_count": 7,
   "metadata": {},
   "outputs": [],
   "source": [
    "xg_df = tables[1]"
   ]
  },
  {
   "cell_type": "code",
   "execution_count": 8,
   "metadata": {},
   "outputs": [],
   "source": [
    "narrow_stats = stats.iloc[:, :23]"
   ]
  },
  {
   "cell_type": "code",
   "execution_count": 9,
   "metadata": {},
   "outputs": [],
   "source": [
    "narrow_stats['HTHD'] = narrow_stats['HTHG'] - narrow_stats['HTAG']"
   ]
  },
  {
   "cell_type": "code",
   "execution_count": 10,
   "metadata": {},
   "outputs": [],
   "source": [
    "narrow_stats['FTHD'] = narrow_stats['FTHG'] - narrow_stats['FTAG']"
   ]
  },
  {
   "cell_type": "code",
   "execution_count": 11,
   "metadata": {},
   "outputs": [],
   "source": [
    "narrow_stats['HTAD'] = narrow_stats['HTAG'] - narrow_stats['HTHG']\n",
    "narrow_stats['FTAD'] = narrow_stats['FTAG'] - narrow_stats['FTHG']"
   ]
  },
  {
   "cell_type": "code",
   "execution_count": 12,
   "metadata": {},
   "outputs": [],
   "source": [
    "narrow_stats['HTT'] = narrow_stats['HTHG'] + narrow_stats['HTAG']\n",
    "narrow_stats['FTT'] = narrow_stats['FTHG'] + narrow_stats['FTAG']"
   ]
  },
  {
   "cell_type": "code",
   "execution_count": 13,
   "metadata": {},
   "outputs": [],
   "source": [
    "# fix discrepancy between dataframe team names\n",
    "narrow_stats = narrow_stats.replace('Hertha', 'Hertha Berlin')\n",
    "narrow_stats = narrow_stats.replace('Leverkusen', 'Bayer Leverkusen')\n",
    "narrow_stats = narrow_stats.replace('Dortmund','Borussia Dortmund' )\n",
    "narrow_stats = narrow_stats.replace('Schalke 04', 'FC Schalke 04')\n",
    "narrow_stats = narrow_stats.replace(\"M'gladbach\", 'Borussia Monchengladbach')\n",
    "narrow_stats = narrow_stats.replace( 'Ein Frankfurt', 'Eintracht Frankfurt')\n",
    "narrow_stats = narrow_stats.replace( 'Mainz', 'FSV Mainz')\n",
    "narrow_stats = narrow_stats.replace( 'Werder Bremen', 'SV Werder Bremen')\n",
    "narrow_stats = narrow_stats.replace( 'Wolfsburg', 'VfL Wolfsburg')\n",
    "narrow_stats = narrow_stats.replace( 'FC Koln', '1. FC Köln')"
   ]
  },
  {
   "cell_type": "code",
   "execution_count": 14,
   "metadata": {},
   "outputs": [],
   "source": [
    "# add shots, shots on target, fouls, cards, corners, corners given up\n",
    "teams_df = pd.DataFrame()\n",
    "teams_df['team'] = list(narrow_stats['HomeTeam'].unique())\n",
    "teams_df = teams_df.set_index('team')"
   ]
  },
  {
   "cell_type": "code",
   "execution_count": 15,
   "metadata": {},
   "outputs": [],
   "source": [
    "home_averages = narrow_stats.groupby('HomeTeam').mean()"
   ]
  },
  {
   "cell_type": "code",
   "execution_count": 16,
   "metadata": {},
   "outputs": [],
   "source": [
    "away_averages = narrow_stats.groupby('AwayTeam').mean()"
   ]
  },
  {
   "cell_type": "code",
   "execution_count": 17,
   "metadata": {},
   "outputs": [],
   "source": [
    "home_teams_df = teams_df.merge(home_averages, left_index=True, right_index=True)"
   ]
  },
  {
   "cell_type": "code",
   "execution_count": 18,
   "metadata": {},
   "outputs": [],
   "source": [
    "home_teams_df = home_teams_df.drop(['HF', 'AF', 'HR', 'AR', 'FTAD', 'HTAD'], axis=1)"
   ]
  },
  {
   "cell_type": "code",
   "execution_count": 19,
   "metadata": {},
   "outputs": [],
   "source": [
    "home_teams_df.columns = ['Goals', 'Goals Against', 'Half Time Goals', 'Half Time Goals Against', 'Shots For', \\\n",
    "                    'Shots Against', 'Shots on Target', 'Shots on Target Allowed', 'Corners', 'Corners Allowed', \\\n",
    "                    'Yellows', 'Opponent Yellows', 'Half Time Differential', 'Full Time Differential', 'Half Time Total', \\\n",
    "                    'Full Time Total']"
   ]
  },
  {
   "cell_type": "code",
   "execution_count": 20,
   "metadata": {},
   "outputs": [],
   "source": [
    "# standardize team names for xg_df\n",
    "xg_df = xg_df.replace('Hertha BSC', 'Hertha Berlin')\n",
    "xg_df = xg_df.replace('Leverkusen', 'Bayer Leverkusen')\n",
    "xg_df = xg_df.replace('Dortmund','Borussia Dortmund' )\n",
    "xg_df = xg_df.replace('Schalke 04', 'FC Schalke 04')\n",
    "xg_df = xg_df.replace(\"M'gladbach\", 'Borussia Monchengladbach')\n",
    "xg_df = xg_df.replace( 'Eint Frankfurt', 'Eintracht Frankfurt')\n",
    "xg_df = xg_df.replace( 'Mainz 05', 'FSV Mainz')\n",
    "xg_df = xg_df.replace( 'Werder Bremen', 'SV Werder Bremen')\n",
    "xg_df = xg_df.replace( 'Wolfsburg', 'VfL Wolfsburg')\n",
    "xg_df = xg_df.replace( 'Köln', '1. FC Köln')\n",
    "xg_df = xg_df.replace( 'Paderborn 07', 'Paderborn')\n",
    "xg_df = xg_df.replace('Düsseldorf','Fortuna Dusseldorf' )"
   ]
  },
  {
   "cell_type": "code",
   "execution_count": 21,
   "metadata": {},
   "outputs": [],
   "source": [
    "# standardize team names for form\n",
    "form_df = form_df.replace('Hertha BSC', 'Hertha Berlin')\n",
    "form_df = form_df.replace('Leverkusen', 'Bayer Leverkusen')\n",
    "form_df = form_df.replace('Dortmund','Borussia Dortmund' )\n",
    "form_df = form_df.replace('Schalke 04', 'FC Schalke 04')\n",
    "form_df = form_df.replace(\"M'gladbach\", 'Borussia Monchengladbach')\n",
    "form_df = form_df.replace( 'Eint Frankfurt', 'Eintracht Frankfurt')\n",
    "form_df = form_df.replace( 'Mainz 05', 'FSV Mainz')\n",
    "form_df = form_df.replace( 'Werder Bremen', 'SV Werder Bremen')\n",
    "form_df = form_df.replace( 'Wolfsburg', 'VfL Wolfsburg')\n",
    "form_df = form_df.replace( 'Köln', '1. FC Köln')\n",
    "form_df = form_df.replace('Düsseldorf','Fortuna Dusseldorf' )\n",
    "form_df = form_df.replace( 'Paderborn 07', 'Paderborn')"
   ]
  },
  {
   "cell_type": "code",
   "execution_count": 22,
   "metadata": {},
   "outputs": [],
   "source": [
    "# get home teams df and standardize team names\n",
    "home_teams_df = home_teams_df.reset_index().sort_values('index')\n",
    "home_teams_df = home_teams_df.set_index('index')"
   ]
  },
  {
   "cell_type": "code",
   "execution_count": 23,
   "metadata": {},
   "outputs": [],
   "source": [
    "away_teams_df = teams_df.merge(away_averages, left_index=True, right_index=True)"
   ]
  },
  {
   "cell_type": "code",
   "execution_count": 24,
   "metadata": {},
   "outputs": [],
   "source": [
    "away_teams_df = away_teams_df.drop(['HF', 'AF', 'HR', 'AR', 'FTHD', 'HTHD'], axis=1)"
   ]
  },
  {
   "cell_type": "code",
   "execution_count": 25,
   "metadata": {},
   "outputs": [],
   "source": [
    "away_teams_df.columns = ['Goals Against', 'Goals', 'Half Time Goals Against', 'Half Time Goals', 'Shots Against', 'Shots For', \\\n",
    "                         'Shots on Target Allowed', 'Shots on Target', 'Corners Allowed', 'Corners', 'Opponent Yellows', 'Yellows', \\\n",
    "                         'Half Time Differential', 'Full Time Differential', 'Half Time Total', 'Full Time Total']"
   ]
  },
  {
   "cell_type": "code",
   "execution_count": 26,
   "metadata": {},
   "outputs": [],
   "source": [
    "away_teams_df = away_teams_df.reset_index().sort_values('index')\n",
    "away_teams_df = away_teams_df.set_index('index')"
   ]
  },
  {
   "cell_type": "code",
   "execution_count": 27,
   "metadata": {},
   "outputs": [],
   "source": [
    "# get linear regression model where the X is a teams average stats and their opponents average stats. \n",
    "# And the Y is their projected goals for the game\n",
    "# can do this for both teams once regression is trained to get projected score and total\n"
   ]
  },
  {
   "cell_type": "code",
   "execution_count": 28,
   "metadata": {},
   "outputs": [],
   "source": [
    "# think about whether to use the gambling stats I've made. I think they would be fine\n",
    "# Get expected goals from xg_df for home and away\n",
    "# from form_df get last 5 games and transform this into points in last 5\n",
    "# use these 4 to make simple regression\n",
    "# drop highly correlated variables: shots on target, shots on target allowed\n",
    "# drop totals, defensive stats "
   ]
  },
  {
   "cell_type": "code",
   "execution_count": 29,
   "metadata": {},
   "outputs": [],
   "source": [
    "home_teams_df = home_teams_df.drop(['Half Time Total', 'Full Time Total', 'Half Time Goals', 'Half Time Goals Against', \\\n",
    "                    'Shots on Target', 'Shots on Target Allowed'],axis=1)\n",
    "away_teams_df = away_teams_df.drop(['Half Time Total', 'Full Time Total', 'Half Time Goals', 'Half Time Goals Against', \\\n",
    "                    'Shots on Target', 'Shots on Target Allowed'],axis=1)"
   ]
  },
  {
   "cell_type": "code",
   "execution_count": 30,
   "metadata": {},
   "outputs": [],
   "source": [
    "def get_pts(last_5):\n",
    "    last_5_lst = last_5.split()\n",
    "    pts = 0\n",
    "    for result in last_5_lst:\n",
    "        if result == 'W':\n",
    "            pts += 3\n",
    "        elif result == 'D':\n",
    "            pts += 1\n",
    "    return pts"
   ]
  },
  {
   "cell_type": "code",
   "execution_count": 31,
   "metadata": {},
   "outputs": [],
   "source": [
    "form_df['pts_last_5'] = form_df['Last 5'].apply(get_pts)"
   ]
  },
  {
   "cell_type": "code",
   "execution_count": 32,
   "metadata": {},
   "outputs": [],
   "source": [
    "form_df = form_df[['Squad','pts_last_5']]"
   ]
  },
  {
   "cell_type": "code",
   "execution_count": 33,
   "metadata": {},
   "outputs": [],
   "source": [
    "home_xg_df = pd.DataFrame()\n",
    "home_xg_df['Squad'] = xg_df[('Unnamed: 1_level_0',     'Squad')]\n",
    "home_xg_df['MP'] = xg_df[(              'Home',        'MP')]\n",
    "home_xg_df['xG']= xg_df[(              'Home',        'xG')]\n",
    "home_xg_df['xGA'] = xg_df[(              'Home',       'xGA')]\n",
    "home_xg_df = home_xg_df.merge(form_df, on='Squad')\n",
    "home_xg_df['xG/90'] = home_xg_df['xG']/home_xg_df['MP']\n",
    "home_xg_df['xGA/90'] = home_xg_df['xGA'] / home_xg_df['MP']\n",
    "home_xg_df = home_xg_df.drop(['MP', 'xG', 'xGA'],axis=1)"
   ]
  },
  {
   "cell_type": "code",
   "execution_count": 34,
   "metadata": {},
   "outputs": [],
   "source": [
    "away_xg_df = pd.DataFrame()\n",
    "away_xg_df['Squad'] = xg_df[('Unnamed: 1_level_0',     'Squad')]\n",
    "away_xg_df['MP'] = xg_df[(              'Away',        'MP')]\n",
    "away_xg_df['xG']= xg_df[(              'Away',        'xG')]\n",
    "away_xg_df['xGA'] = xg_df[(              'Away',       'xGA')]\n",
    "away_xg_df = away_xg_df.merge(form_df, on='Squad')\n",
    "away_xg_df['xG/90'] = away_xg_df['xG']/away_xg_df['MP']\n",
    "away_xg_df['xGA/90'] = away_xg_df['xGA'] / away_xg_df['MP']\n",
    "away_xg_df = away_xg_df.drop(['MP', 'xG', 'xGA'],axis=1)"
   ]
  },
  {
   "cell_type": "code",
   "execution_count": 35,
   "metadata": {},
   "outputs": [],
   "source": [
    "home_teams_df = home_teams_df.merge(home_xg_df, left_index=True, right_on='Squad')\n",
    "away_teams_df = away_teams_df.merge(away_xg_df, left_index=True,right_on='Squad')"
   ]
  },
  {
   "cell_type": "code",
   "execution_count": 36,
   "metadata": {},
   "outputs": [
    {
     "data": {
      "text/html": [
       "<div>\n",
       "<style scoped>\n",
       "    .dataframe tbody tr th:only-of-type {\n",
       "        vertical-align: middle;\n",
       "    }\n",
       "\n",
       "    .dataframe tbody tr th {\n",
       "        vertical-align: top;\n",
       "    }\n",
       "\n",
       "    .dataframe thead th {\n",
       "        text-align: right;\n",
       "    }\n",
       "</style>\n",
       "<table border=\"1\" class=\"dataframe\">\n",
       "  <thead>\n",
       "    <tr style=\"text-align: right;\">\n",
       "      <th></th>\n",
       "      <th>Goals</th>\n",
       "      <th>Goals Against</th>\n",
       "      <th>Shots For</th>\n",
       "      <th>Shots Against</th>\n",
       "      <th>Corners</th>\n",
       "      <th>Corners Allowed</th>\n",
       "      <th>Yellows</th>\n",
       "      <th>Opponent Yellows</th>\n",
       "      <th>Half Time Differential</th>\n",
       "      <th>Full Time Differential</th>\n",
       "      <th>Squad</th>\n",
       "      <th>pts_last_5</th>\n",
       "      <th>xG/90</th>\n",
       "      <th>xGA/90</th>\n",
       "    </tr>\n",
       "  </thead>\n",
       "  <tbody>\n",
       "    <tr>\n",
       "      <th>9</th>\n",
       "      <td>1.666667</td>\n",
       "      <td>1.333333</td>\n",
       "      <td>12.916667</td>\n",
       "      <td>12.083333</td>\n",
       "      <td>5.083333</td>\n",
       "      <td>6.083333</td>\n",
       "      <td>2.333333</td>\n",
       "      <td>2.083333</td>\n",
       "      <td>0.250000</td>\n",
       "      <td>0.333333</td>\n",
       "      <td>1. FC Köln</td>\n",
       "      <td>9</td>\n",
       "      <td>1.533333</td>\n",
       "      <td>1.316667</td>\n",
       "    </tr>\n",
       "    <tr>\n",
       "      <th>13</th>\n",
       "      <td>2.000000</td>\n",
       "      <td>1.750000</td>\n",
       "      <td>11.583333</td>\n",
       "      <td>13.666667</td>\n",
       "      <td>3.083333</td>\n",
       "      <td>4.416667</td>\n",
       "      <td>2.416667</td>\n",
       "      <td>2.250000</td>\n",
       "      <td>0.416667</td>\n",
       "      <td>0.250000</td>\n",
       "      <td>Augsburg</td>\n",
       "      <td>1</td>\n",
       "      <td>1.538462</td>\n",
       "      <td>1.407692</td>\n",
       "    </tr>\n",
       "    <tr>\n",
       "      <th>4</th>\n",
       "      <td>1.923077</td>\n",
       "      <td>1.000000</td>\n",
       "      <td>17.538462</td>\n",
       "      <td>8.923077</td>\n",
       "      <td>7.769231</td>\n",
       "      <td>2.538462</td>\n",
       "      <td>1.461538</td>\n",
       "      <td>1.769231</td>\n",
       "      <td>0.461538</td>\n",
       "      <td>0.923077</td>\n",
       "      <td>Bayer Leverkusen</td>\n",
       "      <td>13</td>\n",
       "      <td>2.030769</td>\n",
       "      <td>1.007692</td>\n",
       "    </tr>\n",
       "    <tr>\n",
       "      <th>0</th>\n",
       "      <td>2.923077</td>\n",
       "      <td>0.846154</td>\n",
       "      <td>19.846154</td>\n",
       "      <td>8.076923</td>\n",
       "      <td>9.307692</td>\n",
       "      <td>2.384615</td>\n",
       "      <td>1.769231</td>\n",
       "      <td>1.538462</td>\n",
       "      <td>0.384615</td>\n",
       "      <td>2.076923</td>\n",
       "      <td>Bayern Munich</td>\n",
       "      <td>13</td>\n",
       "      <td>2.738462</td>\n",
       "      <td>0.876923</td>\n",
       "    </tr>\n",
       "    <tr>\n",
       "      <th>1</th>\n",
       "      <td>3.416667</td>\n",
       "      <td>0.833333</td>\n",
       "      <td>17.083333</td>\n",
       "      <td>9.750000</td>\n",
       "      <td>7.000000</td>\n",
       "      <td>2.500000</td>\n",
       "      <td>0.666667</td>\n",
       "      <td>1.250000</td>\n",
       "      <td>0.666667</td>\n",
       "      <td>2.583333</td>\n",
       "      <td>Borussia Dortmund</td>\n",
       "      <td>15</td>\n",
       "      <td>2.184615</td>\n",
       "      <td>1.169231</td>\n",
       "    </tr>\n",
       "    <tr>\n",
       "      <th>2</th>\n",
       "      <td>2.307692</td>\n",
       "      <td>1.230769</td>\n",
       "      <td>14.769231</td>\n",
       "      <td>14.307692</td>\n",
       "      <td>5.538462</td>\n",
       "      <td>4.769231</td>\n",
       "      <td>2.692308</td>\n",
       "      <td>2.923077</td>\n",
       "      <td>0.538462</td>\n",
       "      <td>1.076923</td>\n",
       "      <td>Borussia Monchengladbach</td>\n",
       "      <td>10</td>\n",
       "      <td>2.192308</td>\n",
       "      <td>1.238462</td>\n",
       "    </tr>\n",
       "    <tr>\n",
       "      <th>12</th>\n",
       "      <td>2.250000</td>\n",
       "      <td>1.333333</td>\n",
       "      <td>16.666667</td>\n",
       "      <td>13.000000</td>\n",
       "      <td>7.500000</td>\n",
       "      <td>3.666667</td>\n",
       "      <td>2.000000</td>\n",
       "      <td>2.500000</td>\n",
       "      <td>0.166667</td>\n",
       "      <td>0.916667</td>\n",
       "      <td>Eintracht Frankfurt</td>\n",
       "      <td>3</td>\n",
       "      <td>1.684615</td>\n",
       "      <td>1.253846</td>\n",
       "    </tr>\n",
       "    <tr>\n",
       "      <th>7</th>\n",
       "      <td>1.384615</td>\n",
       "      <td>1.384615</td>\n",
       "      <td>13.000000</td>\n",
       "      <td>12.846154</td>\n",
       "      <td>5.769231</td>\n",
       "      <td>5.000000</td>\n",
       "      <td>1.615385</td>\n",
       "      <td>2.461538</td>\n",
       "      <td>0.230769</td>\n",
       "      <td>0.000000</td>\n",
       "      <td>FC Schalke 04</td>\n",
       "      <td>2</td>\n",
       "      <td>1.230769</td>\n",
       "      <td>1.253846</td>\n",
       "    </tr>\n",
       "    <tr>\n",
       "      <th>14</th>\n",
       "      <td>1.153846</td>\n",
       "      <td>1.615385</td>\n",
       "      <td>14.461538</td>\n",
       "      <td>13.384615</td>\n",
       "      <td>5.076923</td>\n",
       "      <td>5.307692</td>\n",
       "      <td>1.846154</td>\n",
       "      <td>2.000000</td>\n",
       "      <td>-0.461538</td>\n",
       "      <td>-0.461538</td>\n",
       "      <td>FSV Mainz</td>\n",
       "      <td>8</td>\n",
       "      <td>1.330769</td>\n",
       "      <td>1.346154</td>\n",
       "    </tr>\n",
       "    <tr>\n",
       "      <th>15</th>\n",
       "      <td>1.083333</td>\n",
       "      <td>1.916667</td>\n",
       "      <td>12.916667</td>\n",
       "      <td>13.166667</td>\n",
       "      <td>4.416667</td>\n",
       "      <td>4.750000</td>\n",
       "      <td>1.916667</td>\n",
       "      <td>2.416667</td>\n",
       "      <td>-0.166667</td>\n",
       "      <td>-0.833333</td>\n",
       "      <td>Fortuna Dusseldorf</td>\n",
       "      <td>6</td>\n",
       "      <td>0.976923</td>\n",
       "      <td>1.746154</td>\n",
       "    </tr>\n",
       "    <tr>\n",
       "      <th>6</th>\n",
       "      <td>1.333333</td>\n",
       "      <td>1.166667</td>\n",
       "      <td>13.583333</td>\n",
       "      <td>15.083333</td>\n",
       "      <td>5.500000</td>\n",
       "      <td>6.416667</td>\n",
       "      <td>1.333333</td>\n",
       "      <td>2.666667</td>\n",
       "      <td>0.083333</td>\n",
       "      <td>0.166667</td>\n",
       "      <td>Freiburg</td>\n",
       "      <td>5</td>\n",
       "      <td>1.158333</td>\n",
       "      <td>1.416667</td>\n",
       "    </tr>\n",
       "    <tr>\n",
       "      <th>10</th>\n",
       "      <td>1.076923</td>\n",
       "      <td>2.153846</td>\n",
       "      <td>10.846154</td>\n",
       "      <td>12.461538</td>\n",
       "      <td>3.384615</td>\n",
       "      <td>4.307692</td>\n",
       "      <td>2.538462</td>\n",
       "      <td>1.769231</td>\n",
       "      <td>-0.615385</td>\n",
       "      <td>-1.076923</td>\n",
       "      <td>Hertha Berlin</td>\n",
       "      <td>8</td>\n",
       "      <td>0.930769</td>\n",
       "      <td>1.515385</td>\n",
       "    </tr>\n",
       "    <tr>\n",
       "      <th>8</th>\n",
       "      <td>1.461538</td>\n",
       "      <td>2.384615</td>\n",
       "      <td>13.692308</td>\n",
       "      <td>13.846154</td>\n",
       "      <td>5.230769</td>\n",
       "      <td>5.461538</td>\n",
       "      <td>1.307692</td>\n",
       "      <td>2.076923</td>\n",
       "      <td>-0.538462</td>\n",
       "      <td>-0.923077</td>\n",
       "      <td>Hoffenheim</td>\n",
       "      <td>2</td>\n",
       "      <td>1.485714</td>\n",
       "      <td>1.600000</td>\n",
       "    </tr>\n",
       "    <tr>\n",
       "      <th>17</th>\n",
       "      <td>1.307692</td>\n",
       "      <td>2.384615</td>\n",
       "      <td>13.538462</td>\n",
       "      <td>15.384615</td>\n",
       "      <td>5.307692</td>\n",
       "      <td>6.461538</td>\n",
       "      <td>2.538462</td>\n",
       "      <td>2.538462</td>\n",
       "      <td>-0.846154</td>\n",
       "      <td>-1.076923</td>\n",
       "      <td>Paderborn</td>\n",
       "      <td>1</td>\n",
       "      <td>1.276923</td>\n",
       "      <td>2.092308</td>\n",
       "    </tr>\n",
       "    <tr>\n",
       "      <th>3</th>\n",
       "      <td>2.666667</td>\n",
       "      <td>1.083333</td>\n",
       "      <td>16.416667</td>\n",
       "      <td>10.750000</td>\n",
       "      <td>6.333333</td>\n",
       "      <td>3.750000</td>\n",
       "      <td>1.250000</td>\n",
       "      <td>2.500000</td>\n",
       "      <td>0.416667</td>\n",
       "      <td>1.583333</td>\n",
       "      <td>RB Leipzig</td>\n",
       "      <td>9</td>\n",
       "      <td>2.046154</td>\n",
       "      <td>1.084615</td>\n",
       "    </tr>\n",
       "    <tr>\n",
       "      <th>16</th>\n",
       "      <td>0.727273</td>\n",
       "      <td>2.363636</td>\n",
       "      <td>15.000000</td>\n",
       "      <td>12.818182</td>\n",
       "      <td>6.363636</td>\n",
       "      <td>4.363636</td>\n",
       "      <td>1.545455</td>\n",
       "      <td>2.454545</td>\n",
       "      <td>-0.545455</td>\n",
       "      <td>-1.636364</td>\n",
       "      <td>SV Werder Bremen</td>\n",
       "      <td>1</td>\n",
       "      <td>1.327273</td>\n",
       "      <td>1.227273</td>\n",
       "    </tr>\n",
       "    <tr>\n",
       "      <th>11</th>\n",
       "      <td>1.500000</td>\n",
       "      <td>1.333333</td>\n",
       "      <td>13.500000</td>\n",
       "      <td>13.416667</td>\n",
       "      <td>3.916667</td>\n",
       "      <td>4.500000</td>\n",
       "      <td>1.666667</td>\n",
       "      <td>1.750000</td>\n",
       "      <td>0.083333</td>\n",
       "      <td>0.166667</td>\n",
       "      <td>Union Berlin</td>\n",
       "      <td>7</td>\n",
       "      <td>1.283333</td>\n",
       "      <td>1.425000</td>\n",
       "    </tr>\n",
       "    <tr>\n",
       "      <th>5</th>\n",
       "      <td>1.230769</td>\n",
       "      <td>1.000000</td>\n",
       "      <td>15.615385</td>\n",
       "      <td>10.230769</td>\n",
       "      <td>6.076923</td>\n",
       "      <td>4.538462</td>\n",
       "      <td>1.076923</td>\n",
       "      <td>2.230769</td>\n",
       "      <td>-0.076923</td>\n",
       "      <td>0.230769</td>\n",
       "      <td>VfL Wolfsburg</td>\n",
       "      <td>11</td>\n",
       "      <td>1.407692</td>\n",
       "      <td>1.007692</td>\n",
       "    </tr>\n",
       "  </tbody>\n",
       "</table>\n",
       "</div>"
      ],
      "text/plain": [
       "       Goals  Goals Against  Shots For  Shots Against   Corners  \\\n",
       "9   1.666667       1.333333  12.916667      12.083333  5.083333   \n",
       "13  2.000000       1.750000  11.583333      13.666667  3.083333   \n",
       "4   1.923077       1.000000  17.538462       8.923077  7.769231   \n",
       "0   2.923077       0.846154  19.846154       8.076923  9.307692   \n",
       "1   3.416667       0.833333  17.083333       9.750000  7.000000   \n",
       "2   2.307692       1.230769  14.769231      14.307692  5.538462   \n",
       "12  2.250000       1.333333  16.666667      13.000000  7.500000   \n",
       "7   1.384615       1.384615  13.000000      12.846154  5.769231   \n",
       "14  1.153846       1.615385  14.461538      13.384615  5.076923   \n",
       "15  1.083333       1.916667  12.916667      13.166667  4.416667   \n",
       "6   1.333333       1.166667  13.583333      15.083333  5.500000   \n",
       "10  1.076923       2.153846  10.846154      12.461538  3.384615   \n",
       "8   1.461538       2.384615  13.692308      13.846154  5.230769   \n",
       "17  1.307692       2.384615  13.538462      15.384615  5.307692   \n",
       "3   2.666667       1.083333  16.416667      10.750000  6.333333   \n",
       "16  0.727273       2.363636  15.000000      12.818182  6.363636   \n",
       "11  1.500000       1.333333  13.500000      13.416667  3.916667   \n",
       "5   1.230769       1.000000  15.615385      10.230769  6.076923   \n",
       "\n",
       "    Corners Allowed   Yellows  Opponent Yellows  Half Time Differential  \\\n",
       "9          6.083333  2.333333          2.083333                0.250000   \n",
       "13         4.416667  2.416667          2.250000                0.416667   \n",
       "4          2.538462  1.461538          1.769231                0.461538   \n",
       "0          2.384615  1.769231          1.538462                0.384615   \n",
       "1          2.500000  0.666667          1.250000                0.666667   \n",
       "2          4.769231  2.692308          2.923077                0.538462   \n",
       "12         3.666667  2.000000          2.500000                0.166667   \n",
       "7          5.000000  1.615385          2.461538                0.230769   \n",
       "14         5.307692  1.846154          2.000000               -0.461538   \n",
       "15         4.750000  1.916667          2.416667               -0.166667   \n",
       "6          6.416667  1.333333          2.666667                0.083333   \n",
       "10         4.307692  2.538462          1.769231               -0.615385   \n",
       "8          5.461538  1.307692          2.076923               -0.538462   \n",
       "17         6.461538  2.538462          2.538462               -0.846154   \n",
       "3          3.750000  1.250000          2.500000                0.416667   \n",
       "16         4.363636  1.545455          2.454545               -0.545455   \n",
       "11         4.500000  1.666667          1.750000                0.083333   \n",
       "5          4.538462  1.076923          2.230769               -0.076923   \n",
       "\n",
       "    Full Time Differential                     Squad  pts_last_5     xG/90  \\\n",
       "9                 0.333333                1. FC Köln           9  1.533333   \n",
       "13                0.250000                  Augsburg           1  1.538462   \n",
       "4                 0.923077          Bayer Leverkusen          13  2.030769   \n",
       "0                 2.076923             Bayern Munich          13  2.738462   \n",
       "1                 2.583333         Borussia Dortmund          15  2.184615   \n",
       "2                 1.076923  Borussia Monchengladbach          10  2.192308   \n",
       "12                0.916667       Eintracht Frankfurt           3  1.684615   \n",
       "7                 0.000000             FC Schalke 04           2  1.230769   \n",
       "14               -0.461538                 FSV Mainz           8  1.330769   \n",
       "15               -0.833333        Fortuna Dusseldorf           6  0.976923   \n",
       "6                 0.166667                  Freiburg           5  1.158333   \n",
       "10               -1.076923             Hertha Berlin           8  0.930769   \n",
       "8                -0.923077                Hoffenheim           2  1.485714   \n",
       "17               -1.076923                 Paderborn           1  1.276923   \n",
       "3                 1.583333                RB Leipzig           9  2.046154   \n",
       "16               -1.636364          SV Werder Bremen           1  1.327273   \n",
       "11                0.166667              Union Berlin           7  1.283333   \n",
       "5                 0.230769             VfL Wolfsburg          11  1.407692   \n",
       "\n",
       "      xGA/90  \n",
       "9   1.316667  \n",
       "13  1.407692  \n",
       "4   1.007692  \n",
       "0   0.876923  \n",
       "1   1.169231  \n",
       "2   1.238462  \n",
       "12  1.253846  \n",
       "7   1.253846  \n",
       "14  1.346154  \n",
       "15  1.746154  \n",
       "6   1.416667  \n",
       "10  1.515385  \n",
       "8   1.600000  \n",
       "17  2.092308  \n",
       "3   1.084615  \n",
       "16  1.227273  \n",
       "11  1.425000  \n",
       "5   1.007692  "
      ]
     },
     "execution_count": 36,
     "metadata": {},
     "output_type": "execute_result"
    }
   ],
   "source": [
    "home_teams_df"
   ]
  },
  {
   "cell_type": "code",
   "execution_count": 37,
   "metadata": {},
   "outputs": [],
   "source": [
    "home_offense = home_teams_df[['Squad','Goals', 'Shots For', 'Corners', 'Opponent Yellows', 'pts_last_5', 'xG/90']]\n",
    "home_defense = home_teams_df[['Squad','Goals Against', 'Shots Against', 'Corners Allowed', 'Yellows', 'xGA/90', 'pts_last_5']]\n",
    "home_defense.columns = ['Squad','Defense Goals Against', 'Defense Shots Against', 'Defense Corners Allowed', ' Defense Yellows', 'Defense xGA/90', 'defense_pts_last_5']"
   ]
  },
  {
   "cell_type": "code",
   "execution_count": 38,
   "metadata": {},
   "outputs": [],
   "source": [
    "away_offense =away_teams_df[['Squad','Goals', 'Shots For', 'Corners', 'Opponent Yellows', 'pts_last_5', 'xG/90']]\n",
    "away_defense = away_teams_df[['Squad','Goals Against', 'Shots Against', 'Corners Allowed', 'Yellows', 'xGA/90', 'pts_last_5']]\n",
    "away_defense.columns = ['Squad','Defense Goals Against', 'Defense Shots Against', 'Defense Corners Allowed', ' Defense Yellows', 'Defense xGA/90', 'defense_pts_last_5']"
   ]
  },
  {
   "cell_type": "code",
   "execution_count": 39,
   "metadata": {},
   "outputs": [],
   "source": [
    "# now only have 2 dataframes with info for home and away sides\n",
    "game_key = narrow_stats[['HomeTeam', 'AwayTeam', 'FTHG', 'FTAG']]"
   ]
  },
  {
   "cell_type": "code",
   "execution_count": 40,
   "metadata": {},
   "outputs": [],
   "source": [
    "from sklearn.linear_model import LinearRegression "
   ]
  },
  {
   "cell_type": "code",
   "execution_count": 48,
   "metadata": {},
   "outputs": [],
   "source": [
    "# x will have the team: with their offensive stats and opponents defensive stats\n",
    "# y will have the number of goals scored by offensive team \n",
    "def get_x_y_data(games_df, home_offense, home_defense, away_offense, away_defense):\n",
    "    X = pd.DataFrame()\n",
    "    y = list()\n",
    "    for i in range(games_df.shape[0]):\n",
    "        home = games_df[\"HomeTeam\"][i]\n",
    "        away = games_df[\"AwayTeam\"][i]\n",
    "        home_goals = games_df['FTHG'][i]\n",
    "        away_goals = games_df['FTAG'][i]\n",
    "        # get home teams offense info first\n",
    "        y.append(home_goals)\n",
    "        y.append(away_goals)\n",
    "        # get home team offense info\n",
    "        temp = home_offense[home_offense['Squad'] == home]\n",
    "        temp['temp'] = ['for_merge']\n",
    "        # get away team defense info\n",
    "        temp1 = away_defense[ away_defense['Squad'] == away]\n",
    "        temp1['temp'] = ['for_merge']\n",
    "        # merge into one row for home scoring row\n",
    "        home_o_stats = temp.merge(temp1, on='temp', how='outer')\n",
    "        home_o_stats = home_o_stats.drop(['Squad_x', 'Squad_y', 'temp'], axis=1)\n",
    "        if i == 0:\n",
    "            X = home_o_stats\n",
    "        else:\n",
    "            X = X.append(home_o_stats)\n",
    "       # get away team offense info\n",
    "        temp = away_offense[away_offense['Squad'] == away]\n",
    "        temp['temp'] = ['for_merge']\n",
    "        # get home team defense info\n",
    "        temp1 = home_defense[ home_defense['Squad'] == home]\n",
    "        temp1['temp'] = ['for_merge']\n",
    "        # merge into one row for away scoring row\n",
    "        away_o_stats = temp.merge(temp1, on='temp', how='outer')\n",
    "        away_o_stats = away_o_stats.drop(['Squad_x', 'Squad_y', 'temp'], axis=1)\n",
    "        X = X.append(away_o_stats)\n",
    "    \n",
    "    return (X,y)\n",
    "        \n",
    "    "
   ]
  },
  {
   "cell_type": "code",
   "execution_count": 75,
   "metadata": {},
   "outputs": [],
   "source": [
    "def get_prediction_ready(home_team, away_team, home_offense, home_defense, away_offense, away_defense):\n",
    "    # get home team offense info\n",
    "        temp = home_offense[home_offense['Squad'] == home_team]\n",
    "        temp['temp'] = ['for_merge']\n",
    "        # get away team defense info\n",
    "        temp1 = away_defense[ away_defense['Squad'] == away_team]\n",
    "        temp1['temp'] = ['for_merge']\n",
    "        # merge into one row for home scoring row\n",
    "        home_o_stats = temp.merge(temp1, on='temp', how='outer')\n",
    "        home_o_stats = home_o_stats.drop(['Squad_x', 'Squad_y', 'temp'], axis=1)\n",
    "        game_stats = home_o_stats\n",
    "       # get away team offense info\n",
    "        temp = away_offense[away_offense['Squad'] == away_team]\n",
    "        temp['temp'] = ['for_merge']\n",
    "        # get home team defense info\n",
    "        temp1 = home_defense[ home_defense['Squad'] == home_team]\n",
    "        temp1['temp'] = ['for_merge']\n",
    "        # merge into one row for away scoring row\n",
    "        away_o_stats = temp.merge(temp1, on='temp', how='outer')\n",
    "        away_o_stats = away_o_stats.drop(['Squad_x', 'Squad_y', 'temp'], axis=1)\n",
    "        game_stats = game_stats.append(away_o_stats)\n",
    "        return game_stats\n",
    "        "
   ]
  },
  {
   "cell_type": "code",
   "execution_count": 51,
   "metadata": {},
   "outputs": [],
   "source": [
    " X, y = get_x_y_data(game_key, home_offense, home_defense, away_offense, away_defense)"
   ]
  },
  {
   "cell_type": "code",
   "execution_count": 54,
   "metadata": {},
   "outputs": [],
   "source": [
    "from sklearn.model_selection import train_test_split"
   ]
  },
  {
   "cell_type": "code",
   "execution_count": 55,
   "metadata": {},
   "outputs": [],
   "source": [
    "X_train, X_test, y_train, y_test = train_test_split(X, y, test_size=0.2)"
   ]
  },
  {
   "cell_type": "code",
   "execution_count": 60,
   "metadata": {},
   "outputs": [],
   "source": [
    "score_model = LinearRegression()"
   ]
  },
  {
   "cell_type": "code",
   "execution_count": 61,
   "metadata": {},
   "outputs": [
    {
     "data": {
      "text/plain": [
       "LinearRegression()"
      ]
     },
     "execution_count": 61,
     "metadata": {},
     "output_type": "execute_result"
    }
   ],
   "source": [
    "score_model.fit(X_train, y_train)"
   ]
  },
  {
   "cell_type": "code",
   "execution_count": 65,
   "metadata": {},
   "outputs": [],
   "source": [
    "test_pred = score_model.predict(X_test) \n",
    "diffs_from_actual = test_pred - y_test"
   ]
  },
  {
   "cell_type": "code",
   "execution_count": 72,
   "metadata": {},
   "outputs": [
    {
     "data": {
      "text/plain": [
       "-0.03247206407451794"
      ]
     },
     "execution_count": 72,
     "metadata": {},
     "output_type": "execute_result"
    }
   ],
   "source": [
    "np.mean(diffs_from_actual)"
   ]
  },
  {
   "cell_type": "code",
   "execution_count": 95,
   "metadata": {},
   "outputs": [],
   "source": [
    "import math\n",
    "def truncate(number, digits) -> float:\n",
    "    stepper = 10.0 ** digits\n",
    "    return math.trunc(stepper * number) / stepper"
   ]
  },
  {
   "cell_type": "code",
   "execution_count": 89,
   "metadata": {},
   "outputs": [
    {
     "data": {
      "text/plain": [
       "{'1. FC Köln',\n",
       " 'Augsburg',\n",
       " 'Bayer Leverkusen',\n",
       " 'Bayern Munich',\n",
       " 'Borussia Dortmund',\n",
       " 'Borussia Monchengladbach',\n",
       " 'Eintracht Frankfurt',\n",
       " 'FC Schalke 04',\n",
       " 'FSV Mainz',\n",
       " 'Fortuna Dusseldorf',\n",
       " 'Freiburg',\n",
       " 'Hertha Berlin',\n",
       " 'Hoffenheim',\n",
       " 'Paderborn',\n",
       " 'RB Leipzig',\n",
       " 'SV Werder Bremen',\n",
       " 'Union Berlin',\n",
       " 'VfL Wolfsburg'}"
      ]
     },
     "execution_count": 89,
     "metadata": {},
     "output_type": "execute_result"
    }
   ],
   "source": [
    "# names to use for teams\n",
    "set(home_offense['Squad'])"
   ]
  },
  {
   "cell_type": "code",
   "execution_count": 90,
   "metadata": {},
   "outputs": [],
   "source": [
    "home = 'SV Werder Bremen'\n",
    "away = 'Bayer Leverkusen'\n",
    "game = get_prediction_ready(home, away,home_offense, home_defense, away_offense, away_defense)"
   ]
  },
  {
   "cell_type": "code",
   "execution_count": 93,
   "metadata": {},
   "outputs": [],
   "source": [
    "home_score_pred, away_score_pred = score_model.predict(game)\n",
    "if home_score_pred > away_score_pred:\n",
    "    favorite = home\n",
    "    diff = home_score_pred - away_score_pred\n",
    "else:\n",
    "    favorite = away\n",
    "    diff = away_score_pred - home_score_pred"
   ]
  },
  {
   "cell_type": "code",
   "execution_count": 103,
   "metadata": {},
   "outputs": [],
   "source": [
    "pred_str = 'The Model predicts the score to be \\n' + home + ': ' + str(home_score_pred.round(3)) + '\\n' + away + ': ' \\\n",
    "      + str(away_score_pred.round(3)) + '\\nThe model predicts the total to be: ' \\\n",
    "            + str((home_score_pred + away_score_pred).round(3))"
   ]
  },
  {
   "cell_type": "code",
   "execution_count": 105,
   "metadata": {},
   "outputs": [
    {
     "name": "stdout",
     "output_type": "stream",
     "text": [
      "The Model predicts the score to be \n",
      "SV Werder Bremen: 0.557\n",
      "Bayer Leverkusen: 2.517\n",
      "The model predicts the total to be: 3.074\n"
     ]
    }
   ],
   "source": []
  },
  {
   "cell_type": "code",
   "execution_count": null,
   "metadata": {},
   "outputs": [],
   "source": []
  }
 ],
 "metadata": {
  "kernelspec": {
   "display_name": "Python 3",
   "language": "python",
   "name": "python3"
  },
  "language_info": {
   "codemirror_mode": {
    "name": "ipython",
    "version": 3
   },
   "file_extension": ".py",
   "mimetype": "text/x-python",
   "name": "python",
   "nbconvert_exporter": "python",
   "pygments_lexer": "ipython3",
   "version": "3.6.5"
  }
 },
 "nbformat": 4,
 "nbformat_minor": 2
}
