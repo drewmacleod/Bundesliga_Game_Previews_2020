{
 "cells": [
  {
   "cell_type": "code",
   "execution_count": 1,
   "metadata": {},
   "outputs": [],
   "source": [
    "import pandas as pd\n",
    "import numpy as np\n",
    "import matplotlib as plt"
   ]
  },
  {
   "cell_type": "code",
   "execution_count": 2,
   "metadata": {},
   "outputs": [],
   "source": [
    "import warnings\n",
    "warnings.filterwarnings('ignore')"
   ]
  },
  {
   "cell_type": "code",
   "execution_count": 3,
   "metadata": {},
   "outputs": [],
   "source": [
    "pd.set_option('display.max_columns', None)"
   ]
  },
  {
   "cell_type": "code",
   "execution_count": 4,
   "metadata": {},
   "outputs": [],
   "source": [
    "stats = pd.read_csv('data/D1.csv')\n",
    "stats_18_19 = pd.read_csv('data/Bundesliga_18_19.csv')\n",
    "stats_17_18 = pd.read_csv('data/Bundesliga_17_18.csv')"
   ]
  },
  {
   "cell_type": "code",
   "execution_count": 5,
   "metadata": {},
   "outputs": [],
   "source": [
    "stats_17_18['Date'] = pd.to_datetime(stats['Date'], infer_datetime_format=True)\n",
    "stats_18_19['Date'] = pd.to_datetime(stats['Date'], infer_datetime_format=True)\n",
    "stats['Date'] = pd.to_datetime(stats['Date'], infer_datetime_format=True)"
   ]
  },
  {
   "cell_type": "code",
   "execution_count": 6,
   "metadata": {},
   "outputs": [],
   "source": [
    "tables = pd.read_html('https://fbref.com/en/comps/20/Bundesliga-Stats')\n",
    "tables_18_19 = pd.read_html('https://fbref.com/en/comps/20/2109/2018-2019-Bundesliga-Stats')\n",
    "tables_17_18 = pd.read_html('https://fbref.com/en/comps/20/1634/2017-2018-Bundesliga-Stats')"
   ]
  },
  {
   "cell_type": "code",
   "execution_count": 7,
   "metadata": {},
   "outputs": [],
   "source": [
    "form_df = tables[0]\n",
    "form_df_18_19  = tables_18_19[0]\n",
    "form_df_17_18  = tables_17_18[0]"
   ]
  },
  {
   "cell_type": "code",
   "execution_count": 8,
   "metadata": {},
   "outputs": [],
   "source": [
    "form_df_pts = tables[0]"
   ]
  },
  {
   "cell_type": "code",
   "execution_count": 9,
   "metadata": {},
   "outputs": [],
   "source": [
    "xg_df = tables[1]\n",
    "xg_df_18_19 = tables_18_19[1]\n",
    "xg_df_17_18 = tables_17_18[1]"
   ]
  },
  {
   "cell_type": "code",
   "execution_count": 10,
   "metadata": {},
   "outputs": [],
   "source": [
    "narrow_stats = stats.iloc[:, :23]\n",
    "narrow_stats_18_19 = stats_18_19.iloc[:, :22]\n",
    "narrow_stats_17_18 = stats_17_18.iloc[:, :22]"
   ]
  },
  {
   "cell_type": "code",
   "execution_count": 11,
   "metadata": {},
   "outputs": [],
   "source": [
    "# FIGURE OUT SPELLING DISCREPANCY BETWEEN NARROW STATS"
   ]
  },
  {
   "cell_type": "code",
   "execution_count": 12,
   "metadata": {},
   "outputs": [
    {
     "data": {
      "text/plain": [
       "\"narrow_stats['HTHD'] = narrow_stats['HTHG'] - narrow_stats['HTAG']\\nnarrow_stats['FTHD'] = narrow_stats['FTHG'] - narrow_stats['FTAG']\\nnarrow_stats['HTAD'] = narrow_stats['HTAG'] - narrow_stats['HTHG']\\nnarrow_stats['FTAD'] = narrow_stats['FTAG'] - narrow_stats['FTHG']\\nnarrow_stats['HTT'] = narrow_stats['HTHG'] + narrow_stats['HTAG']\\nnarrow_stats['FTT'] = narrow_stats['FTHG'] + narrow_stats['FTAG']\""
      ]
     },
     "execution_count": 12,
     "metadata": {},
     "output_type": "execute_result"
    }
   ],
   "source": [
    "\"\"\"narrow_stats['HTHD'] = narrow_stats['HTHG'] - narrow_stats['HTAG']\n",
    "narrow_stats['FTHD'] = narrow_stats['FTHG'] - narrow_stats['FTAG']\n",
    "narrow_stats['HTAD'] = narrow_stats['HTAG'] - narrow_stats['HTHG']\n",
    "narrow_stats['FTAD'] = narrow_stats['FTAG'] - narrow_stats['FTHG']\n",
    "narrow_stats['HTT'] = narrow_stats['HTHG'] + narrow_stats['HTAG']\n",
    "narrow_stats['FTT'] = narrow_stats['FTHG'] + narrow_stats['FTAG']\"\"\""
   ]
  },
  {
   "cell_type": "code",
   "execution_count": 13,
   "metadata": {},
   "outputs": [],
   "source": [
    "# fix discrepancy between dataframe team names\n",
    "narrow_stats = narrow_stats.replace('Hertha', 'Hertha Berlin')\n",
    "narrow_stats = narrow_stats.replace('Leverkusen', 'Bayer Leverkusen')\n",
    "narrow_stats = narrow_stats.replace('Dortmund','Borussia Dortmund' )\n",
    "narrow_stats = narrow_stats.replace('Schalke 04', 'FC Schalke 04')\n",
    "narrow_stats = narrow_stats.replace(\"M'gladbach\", 'Borussia Monchengladbach')\n",
    "narrow_stats = narrow_stats.replace( 'Ein Frankfurt', 'Eintracht Frankfurt')\n",
    "narrow_stats = narrow_stats.replace( 'Mainz', 'FSV Mainz')\n",
    "narrow_stats = narrow_stats.replace( 'Werder Bremen', 'SV Werder Bremen')\n",
    "narrow_stats = narrow_stats.replace( 'Wolfsburg', 'VfL Wolfsburg')\n",
    "narrow_stats = narrow_stats.replace( 'FC Koln', '1. FC Köln')\n",
    "# same thing for 18-19\n",
    "narrow_stats_18_19 = narrow_stats_18_19.replace('Hertha', 'Hertha Berlin')\n",
    "narrow_stats_18_19 = narrow_stats_18_19.replace('Leverkusen', 'Bayer Leverkusen')\n",
    "narrow_stats_18_19 = narrow_stats_18_19.replace('Dortmund','Borussia Dortmund' )\n",
    "narrow_stats_18_19 = narrow_stats_18_19.replace('Schalke 04', 'FC Schalke 04')\n",
    "narrow_stats_18_19 = narrow_stats_18_19.replace(\"M'gladbach\", 'Borussia Monchengladbach')\n",
    "narrow_stats_18_19 = narrow_stats_18_19.replace( 'Ein Frankfurt', 'Eintracht Frankfurt')\n",
    "narrow_stats_18_19 = narrow_stats_18_19.replace( 'Mainz', 'FSV Mainz')\n",
    "narrow_stats_18_19 = narrow_stats_18_19.replace( 'Werder Bremen', 'SV Werder Bremen')\n",
    "narrow_stats_18_19 = narrow_stats_18_19.replace( 'Wolfsburg', 'VfL Wolfsburg')\n",
    "narrow_stats_18_19 = narrow_stats_18_19.replace( 'FC Koln', '1. FC Köln')\n",
    "# same thing for 17-18\n",
    "narrow_stats_17_18 = narrow_stats_17_18.replace('Hertha', 'Hertha Berlin')\n",
    "narrow_stats_17_18 = narrow_stats_17_18.replace('Leverkusen', 'Bayer Leverkusen')\n",
    "narrow_stats_17_18 = narrow_stats_17_18.replace('Dortmund','Borussia Dortmund' )\n",
    "narrow_stats_17_18 = narrow_stats_17_18.replace('Schalke 04', 'FC Schalke 04')\n",
    "narrow_stats_17_18 = narrow_stats_17_18.replace(\"M'gladbach\", 'Borussia Monchengladbach')\n",
    "narrow_stats_17_18 = narrow_stats_17_18.replace( 'Ein Frankfurt', 'Eintracht Frankfurt')\n",
    "narrow_stats_17_18 = narrow_stats_17_18.replace( 'Mainz', 'FSV Mainz')\n",
    "narrow_stats_17_18 = narrow_stats_17_18.replace( 'Werder Bremen', 'SV Werder Bremen')\n",
    "narrow_stats_17_18 = narrow_stats_17_18.replace( 'Wolfsburg', 'VfL Wolfsburg')\n",
    "narrow_stats_17_18 = narrow_stats_17_18.replace( 'FC Koln', '1. FC Köln')"
   ]
  },
  {
   "cell_type": "code",
   "execution_count": 14,
   "metadata": {},
   "outputs": [
    {
     "data": {
      "text/plain": [
       "array(['Bayern Munich', 'Fortuna Dusseldorf', 'Freiburg', 'Hertha Berlin',\n",
       "       'Borussia Monchengladbach', 'SV Werder Bremen', 'VfL Wolfsburg',\n",
       "       'Borussia Dortmund', 'FSV Mainz', 'Hannover', 'Augsburg',\n",
       "       'Eintracht Frankfurt', 'Hoffenheim', 'Bayer Leverkusen',\n",
       "       'Nurnberg', 'Stuttgart', 'RB Leipzig', 'FC Schalke 04'],\n",
       "      dtype=object)"
      ]
     },
     "execution_count": 14,
     "metadata": {},
     "output_type": "execute_result"
    }
   ],
   "source": [
    "narrow_stats_18_19['HomeTeam'].unique()"
   ]
  },
  {
   "cell_type": "code",
   "execution_count": 15,
   "metadata": {},
   "outputs": [],
   "source": [
    "xg_df_18_19 = xg_df_18_19.replace('Nürnberg', 'Nurnberg')"
   ]
  },
  {
   "cell_type": "code",
   "execution_count": 16,
   "metadata": {},
   "outputs": [],
   "source": [
    "teams_df = pd.DataFrame()\n",
    "teams_df['team'] = list(narrow_stats['HomeTeam'].unique())\n",
    "teams_df = teams_df.set_index('team')\n",
    "# same for 18-19\n",
    "teams_df_18_19 = pd.DataFrame()\n",
    "teams_df_18_19['team'] = list(narrow_stats_18_19['HomeTeam'].unique())\n",
    "teams_df_18_19 = teams_df_18_19.set_index('team')\n",
    "#same for 17-18\n",
    "teams_df_17_18 = pd.DataFrame()\n",
    "teams_df_17_18['team'] = list(narrow_stats_17_18['HomeTeam'].unique())\n",
    "teams_df_17_18 = teams_df_17_18.set_index('team')"
   ]
  },
  {
   "cell_type": "code",
   "execution_count": 17,
   "metadata": {},
   "outputs": [],
   "source": [
    "home_averages = narrow_stats.groupby('HomeTeam').mean()\n",
    "away_averages = narrow_stats.groupby('AwayTeam').mean()\n",
    "# same for 18-19\n",
    "home_averages_18_19 = narrow_stats_18_19.groupby('HomeTeam').mean()\n",
    "away_averages_18_19 = narrow_stats_18_19.groupby('AwayTeam').mean()\n",
    "# same for 17-18\n",
    "home_averages_17_18 = narrow_stats_17_18.groupby('HomeTeam').mean()\n",
    "away_averages_17_18 = narrow_stats_17_18.groupby('AwayTeam').mean()"
   ]
  },
  {
   "cell_type": "code",
   "execution_count": 18,
   "metadata": {},
   "outputs": [],
   "source": [
    "home_teams_df = teams_df.merge(home_averages, left_index=True, right_index=True)\n",
    "\n",
    "home_teams_df = home_teams_df.drop(['HF', 'AF', 'HR', 'AR'], axis=1)\n",
    "\n",
    "home_teams_df.columns = ['Goals', 'Goals Against', 'Half Time Goals', 'Half Time Goals Against', 'Shots For', \\\n",
    "                    'Shots Against', 'Shots on Target', 'Shots on Target Allowed', 'Corners', 'Corners Allowed', \\\n",
    "                    'Yellows', 'Opponent Yellows']\n",
    "# same for 18-19\n",
    "home_teams_df_18_19 = teams_df_18_19.merge(home_averages_18_19, left_index=True, right_index=True)\n",
    "\n",
    "home_teams_df_18_19 = home_teams_df_18_19.drop(['HF', 'AF', 'HR', 'AR'], axis=1)\n",
    "\n",
    "home_teams_df_18_19.columns = ['Goals', 'Goals Against', 'Half Time Goals', 'Half Time Goals Against', 'Shots For', \\\n",
    "                    'Shots Against', 'Shots on Target', 'Shots on Target Allowed', 'Corners', 'Corners Allowed', \\\n",
    "                    'Yellows', 'Opponent Yellows']\n",
    "# same for 17-18\n",
    "home_teams_df_17_18 = teams_df_17_18.merge(home_averages_17_18, left_index=True, right_index=True)\n",
    "\n",
    "home_teams_df_17_18 = home_teams_df_17_18.drop(['HF', 'AF', 'HR', 'AR'], axis=1)\n",
    "\n",
    "home_teams_df_17_18.columns = ['Goals', 'Goals Against', 'Half Time Goals', 'Half Time Goals Against', 'Shots For', \\\n",
    "                    'Shots Against', 'Shots on Target', 'Shots on Target Allowed', 'Corners', 'Corners Allowed', \\\n",
    "                    'Yellows', 'Opponent Yellows']"
   ]
  },
  {
   "cell_type": "code",
   "execution_count": 19,
   "metadata": {},
   "outputs": [],
   "source": [
    "# standardize team names for xg_df\n",
    "xg_df = xg_df.replace('Hertha BSC', 'Hertha Berlin')\n",
    "xg_df = xg_df.replace('Leverkusen', 'Bayer Leverkusen')\n",
    "xg_df = xg_df.replace('Dortmund','Borussia Dortmund' )\n",
    "xg_df = xg_df.replace('Schalke 04', 'FC Schalke 04')\n",
    "xg_df = xg_df.replace(\"M'gladbach\", 'Borussia Monchengladbach')\n",
    "xg_df = xg_df.replace( 'Eint Frankfurt', 'Eintracht Frankfurt')\n",
    "xg_df = xg_df.replace( 'Mainz 05', 'FSV Mainz')\n",
    "xg_df = xg_df.replace( 'Werder Bremen', 'SV Werder Bremen')\n",
    "xg_df = xg_df.replace( 'Wolfsburg', 'VfL Wolfsburg')\n",
    "xg_df = xg_df.replace( 'Köln', '1. FC Köln')\n",
    "xg_df = xg_df.replace( 'Paderborn 07', 'Paderborn')\n",
    "xg_df = xg_df.replace('Düsseldorf','Fortuna Dusseldorf' )\n",
    "# same for 18-19\n",
    "xg_df_18_19 = xg_df_18_19.replace('Hertha BSC', 'Hertha Berlin')\n",
    "xg_df_18_19 = xg_df_18_19.replace('Leverkusen', 'Bayer Leverkusen')\n",
    "xg_df_18_19 = xg_df_18_19.replace('Dortmund','Borussia Dortmund' )\n",
    "xg_df_18_19 = xg_df_18_19.replace('Schalke 04', 'FC Schalke 04')\n",
    "xg_df_18_19 = xg_df_18_19.replace(\"M'gladbach\", 'Borussia Monchengladbach')\n",
    "xg_df_18_19 = xg_df_18_19.replace( 'Eint Frankfurt', 'Eintracht Frankfurt')\n",
    "xg_df_18_19 = xg_df_18_19.replace( 'Mainz 05', 'FSV Mainz')\n",
    "xg_df_18_19 = xg_df_18_19.replace( 'Werder Bremen', 'SV Werder Bremen')\n",
    "xg_df_18_19 = xg_df_18_19.replace( 'Wolfsburg', 'VfL Wolfsburg')\n",
    "xg_df_18_19 = xg_df_18_19.replace( 'Köln', '1. FC Köln')\n",
    "xg_df_18_19 = xg_df_18_19.replace( 'Paderborn 07', 'Paderborn')\n",
    "xg_df_18_19 = xg_df_18_19.replace('Düsseldorf','Fortuna Dusseldorf' )\n",
    "xg_df_18_19 = xg_df_18_19.replace('Hannover 96', 'Hannover')\n",
    "xg_df_18_19 = xg_df_18_19.replace('Hamburger SV', 'Hamburg')\n",
    "xg_df_18_19 = xg_df_18_19.replace('Nürnberg', 'Nurnberg')\n",
    "# same for 17-18\n",
    "xg_df_17_18 = xg_df_17_18.replace('Hertha BSC', 'Hertha Berlin')\n",
    "xg_df_17_18 = xg_df_17_18.replace('Leverkusen', 'Bayer Leverkusen')\n",
    "xg_df_17_18 = xg_df_17_18.replace('Dortmund','Borussia Dortmund' )\n",
    "xg_df_17_18 = xg_df_17_18.replace('Schalke 04', 'FC Schalke 04')\n",
    "xg_df_17_18 = xg_df_17_18.replace(\"M'gladbach\", 'Borussia Monchengladbach')\n",
    "xg_df_17_18 = xg_df_17_18.replace( 'Eint Frankfurt', 'Eintracht Frankfurt')\n",
    "xg_df_17_18 = xg_df_17_18.replace( 'Mainz 05', 'FSV Mainz')\n",
    "xg_df_17_18 = xg_df_17_18.replace( 'Werder Bremen', 'SV Werder Bremen')\n",
    "xg_df_17_18 = xg_df_17_18.replace( 'Wolfsburg', 'VfL Wolfsburg')\n",
    "xg_df_17_18 = xg_df_17_18.replace( 'Köln', '1. FC Köln')\n",
    "xg_df_17_18 = xg_df_17_18.replace( 'Paderborn 07', 'Paderborn')\n",
    "xg_df_17_18 = xg_df_17_18.replace('Düsseldorf','Fortuna Dusseldorf' )\n",
    "xg_df_17_18 = xg_df_17_18.replace('Hamburger SV', 'Hamburg')\n",
    "xg_df_17_18 = xg_df_17_18.replace('Hannover 96', 'Hannover')"
   ]
  },
  {
   "cell_type": "code",
   "execution_count": 20,
   "metadata": {},
   "outputs": [],
   "source": [
    "\n",
    "# # standardize team names for form\n",
    "# form_df = form_df.replace('Hertha BSC', 'Hertha Berlin')\n",
    "# form_df = form_df.replace('Leverkusen', 'Bayer Leverkusen')\n",
    "# form_df = form_df.replace('Dortmund','Borussia Dortmund' )\n",
    "# form_df = form_df.replace('Schalke 04', 'FC Schalke 04')\n",
    "# form_df = form_df.replace(\"M'gladbach\", 'Borussia Monchengladbach')\n",
    "# form_df = form_df.replace( 'Eint Frankfurt', 'Eintracht Frankfurt')\n",
    "# form_df = form_df.replace( 'Mainz 05', 'FSV Mainz')\n",
    "# form_df = form_df.replace( 'Werder Bremen', 'SV Werder Bremen')\n",
    "# form_df = form_df.replace( 'Wolfsburg', 'VfL Wolfsburg')\n",
    "# form_df = form_df.replace( 'Köln', '1. FC Köln')\n",
    "# form_df = form_df.replace('Düsseldorf','Fortuna Dusseldorf' )\n",
    "# form_df = form_df.replace( 'Paderborn 07', 'Paderborn')\n",
    "# # same for 18-19\n",
    "# form_df_18_19 = form_df_18_19.replace('Hertha BSC', 'Hertha Berlin')\n",
    "# form_df_18_19 = form_df_18_19.replace('Leverkusen', 'Bayer Leverkusen')\n",
    "# form_df_18_19 = form_df_18_19.replace('Dortmund','Borussia Dortmund' )\n",
    "# form_df_18_19 = form_df_18_19.replace('Schalke 04', 'FC Schalke 04')\n",
    "# form_df_18_19 = form_df_18_19.replace(\"M'gladbach\", 'Borussia Monchengladbach')\n",
    "# form_df_18_19 = form_df_18_19.replace( 'Eint Frankfurt', 'Eintracht Frankfurt')\n",
    "# form_df_18_19 = form_df_18_19.replace( 'Mainz 05', 'FSV Mainz')\n",
    "# form_df_18_19 = form_df_18_19.replace( 'Werder Bremen', 'SV Werder Bremen')\n",
    "# form_df_18_19 = form_df_18_19.replace( 'Wolfsburg', 'VfL Wolfsburg')\n",
    "# form_df_18_19 = form_df_18_19.replace( 'Köln', '1. FC Köln')\n",
    "# form_df_18_19 = form_df_18_19.replace('Düsseldorf','Fortuna Dusseldorf' )\n",
    "# form_df_18_19 = form_df_18_19.replace( 'Paderborn 07', 'Paderborn')\n",
    "# # same for 17-18\n",
    "# form_df_17_18 = form_df_17_18.replace('Hertha BSC', 'Hertha Berlin')\n",
    "# form_df_17_18 = form_df_17_18.replace('Leverkusen', 'Bayer Leverkusen')\n",
    "# form_df_17_18 = form_df_17_18.replace('Dortmund','Borussia Dortmund' )\n",
    "# form_df_17_18 = form_df_17_18.replace('Schalke 04', 'FC Schalke 04')\n",
    "# form_df_17_18 = form_df_17_18.replace(\"M'gladbach\", 'Borussia Monchengladbach')\n",
    "# form_df_17_18 = form_df_17_18.replace( 'Eint Frankfurt', 'Eintracht Frankfurt')\n",
    "# form_df_17_18 = form_df_17_18.replace( 'Mainz 05', 'FSV Mainz')\n",
    "# form_df_17_18 = form_df_17_18.replace( 'Werder Bremen', 'SV Werder Bremen')\n",
    "# form_df_17_18 = form_df_17_18.replace( 'Wolfsburg', 'VfL Wolfsburg')\n",
    "# form_df_17_18 = form_df_17_18.replace( 'Köln', '1. FC Köln')\n",
    "# form_df_17_18 = form_df_17_18.replace('Düsseldorf','Fortuna Dusseldorf' )\n",
    "# form_df_17_18 = form_df_17_18.replace( 'Paderborn 07', 'Paderborn')\n",
    "# # form_df pts\n",
    "# # standardize team names for form\n",
    "# form_df_pts = form_df_pts.replace('Hertha BSC', 'Hertha Berlin')\n",
    "# form_df_pts = form_df_pts.replace('Leverkusen', 'Bayer Leverkusen')\n",
    "# form_df_pts = form_df_pts.replace('Dortmund','Borussia Dortmund' )\n",
    "# form_df_pts = form_df_pts.replace('Schalke 04', 'FC Schalke 04')\n",
    "# form_df_pts = form_df_pts.replace(\"M'gladbach\", 'Borussia Monchengladbach')\n",
    "# form_df_pts = form_df_pts.replace( 'Eint Frankfurt', 'Eintracht Frankfurt')\n",
    "# form_df_pts = form_df_pts.replace( 'Mainz 05', 'FSV Mainz')\n",
    "# form_df_pts = form_df_pts.replace( 'Werder Bremen', 'SV Werder Bremen')\n",
    "# form_df_pts = form_df_pts.replace( 'Wolfsburg', 'VfL Wolfsburg')\n",
    "# form_df_pts = form_df_pts.replace( 'Köln', '1. FC Köln')\n",
    "# form_df_pts = form_df_pts.replace('Düsseldorf','Fortuna Dusseldorf' )\n",
    "# form_df_pts = form_df_pts.replace( 'Paderborn 07', 'Paderborn')"
   ]
  },
  {
   "cell_type": "code",
   "execution_count": 21,
   "metadata": {},
   "outputs": [],
   "source": [
    "away_teams_df = teams_df.merge(away_averages, left_index=True, right_index=True)\n",
    "away_teams_df = away_teams_df.drop(['HF', 'AF', 'HR', 'AR'], axis=1)\n",
    "away_teams_df.columns = ['Goals Against', 'Goals', 'Half Time Goals Against', 'Half Time Goals', 'Shots Against', 'Shots For', \\\n",
    "                         'Shots on Target Allowed', 'Shots on Target', 'Corners Allowed', 'Corners', 'Opponent Yellows', 'Yellows']\n",
    "# same for 18-19\n",
    "away_teams_df_18_19 = teams_df_18_19.merge(away_averages_18_19, left_index=True, right_index=True)\n",
    "away_teams_df_18_19 = away_teams_df_18_19.drop(['HF', 'AF', 'HR', 'AR'], axis=1)\n",
    "away_teams_df_18_19.columns = ['Goals Against', 'Goals', 'Half Time Goals Against', 'Half Time Goals', 'Shots Against', 'Shots For', \\\n",
    "                         'Shots on Target Allowed', 'Shots on Target', 'Corners Allowed', 'Corners', 'Opponent Yellows', 'Yellows']\n",
    "#same for 17-18\n",
    "away_teams_df_17_18 = teams_df_17_18.merge(away_averages_17_18, left_index=True, right_index=True)\n",
    "away_teams_df_17_18 = away_teams_df_17_18.drop(['HF', 'AF', 'HR', 'AR'], axis=1)\n",
    "away_teams_df_17_18.columns = ['Goals Against', 'Goals', 'Half Time Goals Against', 'Half Time Goals', 'Shots Against', 'Shots For', \\\n",
    "                         'Shots on Target Allowed', 'Shots on Target', 'Corners Allowed', 'Corners', 'Opponent Yellows', 'Yellows']\n",
    "\n"
   ]
  },
  {
   "cell_type": "code",
   "execution_count": 22,
   "metadata": {},
   "outputs": [],
   "source": [
    "# get linear regression model where the X is a teams average stats and their opponents average stats. \n",
    "# And the Y is their projected goals for the game\n",
    "# can do this for both teams once regression is trained to get projected score and total\n"
   ]
  },
  {
   "cell_type": "code",
   "execution_count": 23,
   "metadata": {},
   "outputs": [],
   "source": [
    "# think about whether to use the gambling stats I've made. I think they would be fine\n",
    "# Get expected goals from xg_df for home and away\n",
    "# from form_df get last 5 games and transform this into points in last 5\n",
    "# use these 4 to make simple regression\n",
    "# drop highly correlated variables: shots on target, shots on target allowed\n",
    "# drop totals, defensive stats "
   ]
  },
  {
   "cell_type": "code",
   "execution_count": 24,
   "metadata": {},
   "outputs": [],
   "source": [
    "# drop hihgly correlated variables\n",
    "home_teams_df = home_teams_df.drop(['Half Time Goals', 'Half Time Goals Against', \\\n",
    "                    'Shots on Target', 'Shots on Target Allowed'],axis=1)\n",
    "away_teams_df = away_teams_df.drop(['Half Time Goals', 'Half Time Goals Against', \\\n",
    "                    'Shots on Target', 'Shots on Target Allowed'],axis=1)\n",
    "# same for 18-19\n",
    "home_teams_df_18_19 = home_teams_df_18_19.drop(['Half Time Goals', 'Half Time Goals Against', \\\n",
    "                    'Shots on Target', 'Shots on Target Allowed'],axis=1)\n",
    "away_teams_df_18_19 = away_teams_df_18_19.drop(['Half Time Goals', 'Half Time Goals Against', \\\n",
    "                    'Shots on Target', 'Shots on Target Allowed'],axis=1)\n",
    "# same for 17-18\n",
    "home_teams_df_17_18 = home_teams_df_17_18.drop(['Half Time Goals', 'Half Time Goals Against', \\\n",
    "                    'Shots on Target', 'Shots on Target Allowed'],axis=1)\n",
    "away_teams_df_17_18 = away_teams_df_17_18.drop(['Half Time Goals', 'Half Time Goals Against', \\\n",
    "                    'Shots on Target', 'Shots on Target Allowed'],axis=1)"
   ]
  },
  {
   "cell_type": "code",
   "execution_count": 25,
   "metadata": {},
   "outputs": [],
   "source": [
    "def get_pts(last_5):\n",
    "    last_5_lst = last_5.split()\n",
    "    pts = 0\n",
    "    for result in last_5_lst:\n",
    "        if result == 'W':\n",
    "            pts += 3\n",
    "        elif result == 'D':\n",
    "            pts += 1\n",
    "    return pts"
   ]
  },
  {
   "cell_type": "code",
   "execution_count": 26,
   "metadata": {},
   "outputs": [],
   "source": [
    "# form_df_pts['pts_last_5'] = form_df['Last 5'].apply(get_pts)\n",
    "# form_df_18_19['pts_last_5'] = form_df_18_19['Last 5'].apply(get_pts)\n",
    "# form_df_17_18['pts_last_5'] = form_df_17_18['Last 5'].apply(get_pts)"
   ]
  },
  {
   "cell_type": "code",
   "execution_count": 27,
   "metadata": {},
   "outputs": [],
   "source": [
    "#form_df_pts = form_df_pts[['Squad','pts_last_5']]"
   ]
  },
  {
   "cell_type": "code",
   "execution_count": 28,
   "metadata": {},
   "outputs": [],
   "source": [
    "home_xg_df = pd.DataFrame()\n",
    "home_xg_df['Squad'] = xg_df[('Unnamed: 1_level_0',     'Squad')]\n",
    "home_xg_df['MP'] = xg_df[(              'Home',        'MP')]\n",
    "home_xg_df['xG']= xg_df[(              'Home',        'xG')]\n",
    "home_xg_df['xGA'] = xg_df[(              'Home',       'xGA')]\n",
    "home_xg_df['xG/90'] = home_xg_df['xG']/home_xg_df['MP']\n",
    "home_xg_df['xGA/90'] = home_xg_df['xGA'] / home_xg_df['MP']\n",
    "home_xg_df = home_xg_df.drop(['MP', 'xG', 'xGA'],axis=1)\n",
    "# same for 18-19\n",
    "home_xg_df_18_19 = pd.DataFrame()\n",
    "home_xg_df_18_19['Squad'] = xg_df_18_19[('Unnamed: 1_level_0',     'Squad')]\n",
    "home_xg_df_18_19['MP'] = xg_df_18_19[(              'Home',        'MP')]\n",
    "home_xg_df_18_19['xG']= xg_df_18_19[(              'Home',        'xG')]\n",
    "home_xg_df_18_19['xGA'] = xg_df_18_19[(              'Home',       'xGA')]\n",
    "home_xg_df_18_19['xG/90'] = home_xg_df_18_19['xG']/home_xg_df_18_19['MP']\n",
    "home_xg_df_18_19['xGA/90'] = home_xg_df_18_19['xGA'] / home_xg_df_18_19['MP']\n",
    "home_xg_df_18_19 = home_xg_df_18_19.drop(['MP', 'xG', 'xGA'],axis=1)\n",
    "# same for 17-18\n",
    "home_xg_df_17_18 = pd.DataFrame()\n",
    "home_xg_df_17_18['Squad'] = xg_df_17_18[('Unnamed: 1_level_0',     'Squad')]\n",
    "home_xg_df_17_18['MP'] = xg_df_17_18[(              'Home',        'MP')]\n",
    "home_xg_df_17_18['xG']= xg_df_17_18[(              'Home',        'xG')]\n",
    "home_xg_df_17_18['xGA'] = xg_df_17_18[(              'Home',       'xGA')]\n",
    "home_xg_df_17_18['xG/90'] = home_xg_df_17_18['xG']/home_xg_df_17_18['MP']\n",
    "home_xg_df_17_18['xGA/90'] = home_xg_df_17_18['xGA'] / home_xg_df_17_18['MP']\n",
    "home_xg_df_17_18 = home_xg_df_17_18.drop(['MP', 'xG', 'xGA'],axis=1)"
   ]
  },
  {
   "cell_type": "code",
   "execution_count": 29,
   "metadata": {},
   "outputs": [],
   "source": [
    "away_xg_df = pd.DataFrame()\n",
    "away_xg_df['Squad'] = xg_df[('Unnamed: 1_level_0',     'Squad')]\n",
    "away_xg_df['MP'] = xg_df[(              'Away',        'MP')]\n",
    "away_xg_df['xG']= xg_df[(              'Away',        'xG')]\n",
    "away_xg_df['xGA'] = xg_df[(              'Away',       'xGA')]\n",
    "away_xg_df['xG/90'] = away_xg_df['xG']/away_xg_df['MP']\n",
    "away_xg_df['xGA/90'] = away_xg_df['xGA'] / away_xg_df['MP']\n",
    "away_xg_df = away_xg_df.drop(['MP', 'xG', 'xGA'],axis=1)\n",
    "# same for 18-19\n",
    "away_xg_df_18_19 = pd.DataFrame()\n",
    "away_xg_df_18_19['Squad'] = xg_df_18_19[('Unnamed: 1_level_0',     'Squad')]\n",
    "away_xg_df_18_19['MP'] = xg_df_18_19[(              'Away',        'MP')]\n",
    "away_xg_df_18_19['xG']= xg_df_18_19[(              'Away',        'xG')]\n",
    "away_xg_df_18_19['xGA'] = xg_df_18_19[(              'Away',       'xGA')]\n",
    "away_xg_df_18_19['xG/90'] = away_xg_df_18_19['xG']/away_xg_df_18_19['MP']\n",
    "away_xg_df_18_19['xGA/90'] = away_xg_df_18_19['xGA'] / away_xg_df_18_19['MP']\n",
    "away_xg_df_18_19 = away_xg_df_18_19.drop(['MP', 'xG', 'xGA'],axis=1)\n",
    "# same for 17-18\n",
    "away_xg_df_17_18 = pd.DataFrame()\n",
    "away_xg_df_17_18['Squad'] = xg_df_17_18[('Unnamed: 1_level_0',     'Squad')]\n",
    "away_xg_df_17_18['MP'] = xg_df_17_18[(              'Away',        'MP')]\n",
    "away_xg_df_17_18['xG']= xg_df_17_18[(              'Away',        'xG')]\n",
    "away_xg_df_17_18['xGA'] = xg_df_17_18[(              'Away',       'xGA')]\n",
    "away_xg_df_17_18['xG/90'] = away_xg_df_17_18['xG']/away_xg_df_17_18['MP']\n",
    "away_xg_df_17_18['xGA/90'] = away_xg_df_17_18['xGA'] / away_xg_df_17_18['MP']\n",
    "away_xg_df_17_18 = away_xg_df_17_18.drop(['MP', 'xG', 'xGA'],axis=1)"
   ]
  },
  {
   "cell_type": "code",
   "execution_count": 30,
   "metadata": {},
   "outputs": [],
   "source": [
    "home_teams_df = home_teams_df.merge(home_xg_df, left_index=True, right_on='Squad')\n",
    "away_teams_df = away_teams_df.merge(away_xg_df, left_index=True,right_on='Squad')\n",
    "# same for 18-19\n",
    "home_teams_df_18_19 = home_teams_df_18_19.merge(home_xg_df_18_19, left_index=True, right_on='Squad')\n",
    "away_teams_df_18_19 = away_teams_df_18_19.merge(away_xg_df_18_19, left_index=True,right_on='Squad')\n",
    "# same for 17-18\n",
    "home_teams_df_17_18 = home_teams_df_17_18.merge(home_xg_df_17_18, left_index=True, right_on='Squad')\n",
    "away_teams_df_17_18 = away_teams_df_17_18.merge(away_xg_df_17_18, left_index=True,right_on='Squad')"
   ]
  },
  {
   "cell_type": "code",
   "execution_count": 31,
   "metadata": {},
   "outputs": [],
   "source": [
    "home_offense = home_teams_df[['Squad','Goals', 'Shots For', 'Corners', 'Opponent Yellows', 'xG/90']]\n",
    "home_defense = home_teams_df[['Squad','Goals Against', 'Shots Against', 'Corners Allowed', 'Yellows', 'xGA/90']]\n",
    "home_defense.columns = ['Squad','Defense Goals Against', 'Defense Shots Against', 'Defense Corners Allowed', ' Defense Yellows', 'Defense xGA/90']\n",
    "# same for 18-19\n",
    "home_offense_18_19 = home_teams_df_18_19[['Squad','Goals', 'Shots For', 'Corners', 'Opponent Yellows', 'xG/90']]\n",
    "home_defense_18_19 = home_teams_df_18_19[['Squad','Goals Against', 'Shots Against', 'Corners Allowed', 'Yellows', 'xGA/90']]\n",
    "home_defense_18_19.columns = ['Squad','Defense Goals Against', 'Defense Shots Against', 'Defense Corners Allowed', ' Defense Yellows', 'Defense xGA/90']\n",
    "# same for 17-18\n",
    "home_offense_17_18 = home_teams_df_17_18[['Squad','Goals', 'Shots For', 'Corners', 'Opponent Yellows', 'xG/90']]\n",
    "home_defense_17_18 = home_teams_df_17_18[['Squad','Goals Against', 'Shots Against', 'Corners Allowed', 'Yellows', 'xGA/90']]\n",
    "home_defense_17_18.columns = ['Squad','Defense Goals Against', 'Defense Shots Against', 'Defense Corners Allowed', ' Defense Yellows', 'Defense xGA/90']\n"
   ]
  },
  {
   "cell_type": "code",
   "execution_count": 32,
   "metadata": {},
   "outputs": [],
   "source": [
    "away_offense =away_teams_df[['Squad','Goals', 'Shots For', 'Corners', 'Opponent Yellows', 'xG/90']]\n",
    "away_defense = away_teams_df[['Squad','Goals Against', 'Shots Against', 'Corners Allowed', 'Yellows', 'xGA/90']]\n",
    "away_defense.columns = ['Squad','Defense Goals Against', 'Defense Shots Against', 'Defense Corners Allowed', ' Defense Yellows', 'Defense xGA/90']\n",
    "# same for 18-19\n",
    "away_offense_18_19 =away_teams_df_18_19[['Squad','Goals', 'Shots For', 'Corners', 'Opponent Yellows', 'xG/90']]\n",
    "away_defense_18_19 = away_teams_df_18_19[['Squad','Goals Against', 'Shots Against', 'Corners Allowed', 'Yellows', 'xGA/90']]\n",
    "away_defense_18_19.columns = ['Squad','Defense Goals Against', 'Defense Shots Against', 'Defense Corners Allowed', ' Defense Yellows', 'Defense xGA/90']\n",
    "# same for 17-18\n",
    "away_offense_17_18 =away_teams_df_17_18[['Squad','Goals', 'Shots For', 'Corners', 'Opponent Yellows', 'xG/90']]\n",
    "away_defense_17_18 = away_teams_df_17_18[['Squad','Goals Against', 'Shots Against', 'Corners Allowed', 'Yellows', 'xGA/90']]\n",
    "away_defense_17_18.columns = ['Squad','Defense Goals Against', 'Defense Shots Against', 'Defense Corners Allowed', ' Defense Yellows', 'Defense xGA/90']"
   ]
  },
  {
   "cell_type": "code",
   "execution_count": 33,
   "metadata": {},
   "outputs": [],
   "source": [
    "# now only have 2 dataframes with info for home and away sides\n",
    "game_key = narrow_stats[['HomeTeam', 'AwayTeam', 'FTHG', 'FTAG']]\n",
    "game_key_18_19 = narrow_stats_18_19[['HomeTeam', 'AwayTeam', 'FTHG', 'FTAG']]\n",
    "game_key_17_18 = narrow_stats_17_18[['HomeTeam', 'AwayTeam', 'FTHG', 'FTAG']]"
   ]
  },
  {
   "cell_type": "code",
   "execution_count": 34,
   "metadata": {},
   "outputs": [],
   "source": [
    "from sklearn.linear_model import LinearRegression "
   ]
  },
  {
   "cell_type": "code",
   "execution_count": 35,
   "metadata": {},
   "outputs": [],
   "source": [
    "# x will have the team: with their offensive stats and opponents defensive stats\n",
    "# y will have the number of goals scored by offensive team \n",
    "def get_x_y_data(games_df, home_offense, home_defense, away_offense, away_defense):\n",
    "    X = pd.DataFrame()\n",
    "    y = list()\n",
    "    for i in range(games_df.shape[0]):\n",
    "        home = games_df[\"HomeTeam\"][i]\n",
    "        away = games_df[\"AwayTeam\"][i]\n",
    "        home_goals = games_df['FTHG'][i]\n",
    "        away_goals = games_df['FTAG'][i]\n",
    "        # get home teams offense info first\n",
    "        y.append(home_goals)\n",
    "        y.append(away_goals)\n",
    "        # get home team offense info\n",
    "        temp = home_offense[home_offense['Squad'] == home]\n",
    "        temp['temp'] = ['for_merge']\n",
    "        # get away team defense info\n",
    "        temp1 = away_defense[ away_defense['Squad'] == away]\n",
    "        temp1['temp'] = ['for_merge']\n",
    "        # merge into one row for home scoring row\n",
    "        home_o_stats = temp.merge(temp1, on='temp', how='outer')\n",
    "        home_o_stats = home_o_stats.drop(['Squad_x', 'Squad_y', 'temp'], axis=1)\n",
    "        if i == 0:\n",
    "            X = home_o_stats\n",
    "        else:\n",
    "            X = X.append(home_o_stats)\n",
    "       # get away team offense info\n",
    "        temp = away_offense[away_offense['Squad'] == away]\n",
    "        temp['temp'] = ['for_merge']\n",
    "        # get home team defense info\n",
    "        temp1 = home_defense[ home_defense['Squad'] == home]\n",
    "        temp1['temp'] = ['for_merge']\n",
    "        # merge into one row for away scoring row\n",
    "        away_o_stats = temp.merge(temp1, on='temp', how='outer')\n",
    "        away_o_stats = away_o_stats.drop(['Squad_x', 'Squad_y', 'temp'], axis=1)\n",
    "        X = X.append(away_o_stats)\n",
    "    \n",
    "    return (X,y)\n",
    "        \n",
    "    "
   ]
  },
  {
   "cell_type": "code",
   "execution_count": 36,
   "metadata": {},
   "outputs": [],
   "source": [
    "def get_prediction_ready(home_team, away_team, home_offense, home_defense, away_offense, away_defense):\n",
    "    # get home team offense info\n",
    "        temp = home_offense[home_offense['Squad'] == home_team]\n",
    "        temp['temp'] = ['for_merge']\n",
    "        # get away team defense info\n",
    "        temp1 = away_defense[ away_defense['Squad'] == away_team]\n",
    "        temp1['temp'] = ['for_merge']\n",
    "        # merge into one row for home scoring row\n",
    "        home_o_stats = temp.merge(temp1, on='temp', how='outer')\n",
    "        home_o_stats = home_o_stats.drop(['Squad_x', 'Squad_y', 'temp'], axis=1)\n",
    "        game_stats = home_o_stats\n",
    "       # get away team offense info\n",
    "        temp = away_offense[away_offense['Squad'] == away_team]\n",
    "        temp['temp'] = ['for_merge']\n",
    "        # get home team defense info\n",
    "        temp1 = home_defense[ home_defense['Squad'] == home_team]\n",
    "        temp1['temp'] = ['for_merge']\n",
    "        # merge into one row for away scoring row\n",
    "        away_o_stats = temp.merge(temp1, on='temp', how='outer')\n",
    "        away_o_stats = away_o_stats.drop(['Squad_x', 'Squad_y', 'temp'], axis=1)\n",
    "        game_stats = game_stats.append(away_o_stats)\n",
    "        return game_stats\n",
    "        "
   ]
  },
  {
   "cell_type": "code",
   "execution_count": 37,
   "metadata": {},
   "outputs": [],
   "source": [
    " X, y = get_x_y_data(game_key, home_offense, home_defense, away_offense, away_defense)\n",
    "X_18_19, y_18_19 = get_x_y_data(game_key_18_19, home_offense_18_19, home_defense_18_19, away_offense_18_19, away_defense_18_19)\n",
    "X_17_18, y_17_18 = get_x_y_data(game_key_17_18, home_offense_17_18, home_defense_17_18, away_offense_17_18, away_defense_17_18)"
   ]
  },
  {
   "cell_type": "code",
   "execution_count": 39,
   "metadata": {},
   "outputs": [],
   "source": [
    "X = X.append(X_18_19)\n",
    "X = X.append(X_17_18)"
   ]
  },
  {
   "cell_type": "code",
   "execution_count": 41,
   "metadata": {},
   "outputs": [],
   "source": [
    "y = y + y_18_19 + y_17_18"
   ]
  },
  {
   "cell_type": "code",
   "execution_count": 42,
   "metadata": {},
   "outputs": [],
   "source": [
    "from sklearn.model_selection import train_test_split"
   ]
  },
  {
   "cell_type": "code",
   "execution_count": 43,
   "metadata": {},
   "outputs": [],
   "source": [
    "X_train, X_test, y_train, y_test = train_test_split(X, y, test_size=0.05)"
   ]
  },
  {
   "cell_type": "code",
   "execution_count": 44,
   "metadata": {},
   "outputs": [],
   "source": [
    "score_model = LinearRegression()"
   ]
  },
  {
   "cell_type": "code",
   "execution_count": 45,
   "metadata": {},
   "outputs": [
    {
     "data": {
      "text/plain": [
       "LinearRegression()"
      ]
     },
     "execution_count": 45,
     "metadata": {},
     "output_type": "execute_result"
    }
   ],
   "source": [
    "score_model.fit(X_train, y_train)"
   ]
  },
  {
   "cell_type": "code",
   "execution_count": 46,
   "metadata": {},
   "outputs": [],
   "source": [
    "test_pred = score_model.predict(X_test) \n",
    "diffs_from_actual = test_pred - y_test"
   ]
  },
  {
   "cell_type": "code",
   "execution_count": 47,
   "metadata": {},
   "outputs": [
    {
     "data": {
      "text/plain": [
       "-0.15182532759418071"
      ]
     },
     "execution_count": 47,
     "metadata": {},
     "output_type": "execute_result"
    }
   ],
   "source": [
    "np.mean(diffs_from_actual)"
   ]
  },
  {
   "cell_type": "code",
   "execution_count": 48,
   "metadata": {},
   "outputs": [],
   "source": [
    "import math\n",
    "def truncate(number, digits) -> float:\n",
    "    stepper = 10.0 ** digits\n",
    "    return math.trunc(stepper * number) / stepper"
   ]
  },
  {
   "cell_type": "code",
   "execution_count": 49,
   "metadata": {},
   "outputs": [
    {
     "data": {
      "text/plain": [
       "{'1. FC Köln',\n",
       " 'Augsburg',\n",
       " 'Bayer Leverkusen',\n",
       " 'Bayern Munich',\n",
       " 'Borussia Dortmund',\n",
       " 'Borussia Monchengladbach',\n",
       " 'Eintracht Frankfurt',\n",
       " 'FC Schalke 04',\n",
       " 'FSV Mainz',\n",
       " 'Fortuna Dusseldorf',\n",
       " 'Freiburg',\n",
       " 'Hertha Berlin',\n",
       " 'Hoffenheim',\n",
       " 'Paderborn',\n",
       " 'RB Leipzig',\n",
       " 'SV Werder Bremen',\n",
       " 'Union Berlin',\n",
       " 'VfL Wolfsburg'}"
      ]
     },
     "execution_count": 49,
     "metadata": {},
     "output_type": "execute_result"
    }
   ],
   "source": [
    "# names to use for teams\n",
    "set(home_offense['Squad'])"
   ]
  },
  {
   "cell_type": "code",
   "execution_count": 54,
   "metadata": {},
   "outputs": [],
   "source": [
    "home = 'SV Werder Bremen'\n",
    "away = 'Bayer Leverkusen'\n",
    "game = get_prediction_ready(home, away,home_offense, home_defense, away_offense, away_defense)"
   ]
  },
  {
   "cell_type": "code",
   "execution_count": 55,
   "metadata": {},
   "outputs": [],
   "source": [
    "home_score_pred, away_score_pred = score_model.predict(game)\n",
    "if home_score_pred > away_score_pred:\n",
    "    favorite = home\n",
    "    diff = home_score_pred - away_score_pred\n",
    "else:\n",
    "    favorite = away\n",
    "    diff = away_score_pred - home_score_pred"
   ]
  },
  {
   "cell_type": "code",
   "execution_count": 56,
   "metadata": {},
   "outputs": [],
   "source": [
    "pred_str = 'The Model predicts the score to be \\n' + home + ': ' + str(home_score_pred.round(3)) + '\\n' + away + ': ' \\\n",
    "      + str(away_score_pred.round(3)) + '\\nThe model predicts the total to be: ' \\\n",
    "            + str((home_score_pred + away_score_pred).round(3))"
   ]
  },
  {
   "cell_type": "code",
   "execution_count": 57,
   "metadata": {},
   "outputs": [
    {
     "name": "stdout",
     "output_type": "stream",
     "text": [
      "The Model predicts the score to be \n",
      "SV Werder Bremen: 0.479\n",
      "Bayer Leverkusen: 2.392\n",
      "The model predicts the total to be: 2.871\n"
     ]
    }
   ],
   "source": [
    "print(pred_str)"
   ]
  },
  {
   "cell_type": "code",
   "execution_count": null,
   "metadata": {},
   "outputs": [],
   "source": []
  }
 ],
 "metadata": {
  "kernelspec": {
   "display_name": "Python 3",
   "language": "python",
   "name": "python3"
  },
  "language_info": {
   "codemirror_mode": {
    "name": "ipython",
    "version": 3
   },
   "file_extension": ".py",
   "mimetype": "text/x-python",
   "name": "python",
   "nbconvert_exporter": "python",
   "pygments_lexer": "ipython3",
   "version": "3.6.5"
  }
 },
 "nbformat": 4,
 "nbformat_minor": 2
}
