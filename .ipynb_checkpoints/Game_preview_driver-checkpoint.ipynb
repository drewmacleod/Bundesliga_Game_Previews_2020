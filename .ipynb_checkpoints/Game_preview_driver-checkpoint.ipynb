{
 "cells": [
  {
   "cell_type": "code",
   "execution_count": 1,
   "metadata": {},
   "outputs": [],
   "source": [
    "import pandas as pd\n",
    "import numpy as np\n",
    "from pandas_profiling import ProfileReport\n",
    "import matplotlib as plt"
   ]
  },
  {
   "cell_type": "code",
   "execution_count": 2,
   "metadata": {},
   "outputs": [],
   "source": [
    "pd.set_option('display.max_columns', None)"
   ]
  },
  {
   "cell_type": "code",
   "execution_count": 3,
   "metadata": {},
   "outputs": [],
   "source": [
    "# import betting lines and that to top of sheet\n",
    "import requests\n",
    "\n",
    "source = requests.get(\"https://www.bovada.lv/services/sports/event/v2/events/A/description/soccer/germany-bundesliga\").json()\n",
    "\n",
    "data = source[0]"
   ]
  },
  {
   "cell_type": "code",
   "execution_count": 6,
   "metadata": {},
   "outputs": [],
   "source": [
    "# returns a list of a list of dictionaries with betting info for all games with spreads on bovada\n",
    "def get_matchup_betting_info(data):\n",
    "    betting_info = list()\n",
    "    games = data['events'][:-1]\n",
    "    for game in games:\n",
    "        single_game = list()\n",
    "        game_info = game['displayGroups'][0]['markets'][0]['outcomes']\n",
    "        total_info = game['displayGroups'][0]['markets'][1]['outcomes']\n",
    "        ml_info = game['displayGroups'][0]['markets'][2]['outcomes']\n",
    "        for team in game_info:\n",
    "            temp = {}\n",
    "            temp['team'] = team['description']\n",
    "            temp['spread'] = team['price']['handicap']\n",
    "            double_spread = team['price'].get('handicap2', None)\n",
    "            if double_spread:\n",
    "                temp['spread2'] = double_spread\n",
    "            temp['odds'] = team['price']['american']\n",
    "            single_game.append(temp)\n",
    "        for result in total_info:\n",
    "            temp = {}\n",
    "            temp['type'] = result['description']\n",
    "            temp['total'] = result['price']['handicap']\n",
    "            multi_total = result['price'].get('handicap2', None)\n",
    "            if multi_total:\n",
    "                temp['total2'] = multi_total\n",
    "            temp['odds'] = result['price']['american']\n",
    "            single_game.append(temp)\n",
    "        for result in ml_info:\n",
    "            temp = {}\n",
    "            temp['team'] = result['description']\n",
    "            temp['ml_odds'] = result['price']['american']\n",
    "            single_game.append(temp)\n",
    "        betting_info.append(single_game)\n",
    "    return betting_info"
   ]
  },
  {
   "cell_type": "code",
   "execution_count": 7,
   "metadata": {},
   "outputs": [],
   "source": [
    "betting_info =get_matchup_betting_info(data)"
   ]
  },
  {
   "cell_type": "code",
   "execution_count": 9,
   "metadata": {},
   "outputs": [],
   "source": [
    "team_names = list()\n",
    "for game in betting_info:\n",
    "    for row in game:\n",
    "        if row.get('team', None):\n",
    "            team_names.append(row['team'])\n",
    "team_names = set(team_names)\n",
    "team_names = sorted(list(team_names))"
   ]
  },
  {
   "cell_type": "code",
   "execution_count": 10,
   "metadata": {},
   "outputs": [],
   "source": [
    "#team_names.remove('Sport-Club Freiburg')"
   ]
  },
  {
   "cell_type": "code",
   "execution_count": 11,
   "metadata": {},
   "outputs": [],
   "source": [
    "stats = pd.read_csv('data/D1.csv')"
   ]
  },
  {
   "cell_type": "code",
   "execution_count": 12,
   "metadata": {},
   "outputs": [],
   "source": [
    "stats['Date'] = pd.to_datetime(stats['Date'], infer_datetime_format=True)"
   ]
  },
  {
   "cell_type": "code",
   "execution_count": 13,
   "metadata": {},
   "outputs": [],
   "source": [
    "tables = pd.read_html('https://fbref.com/en/comps/20/Bundesliga-Stats')"
   ]
  },
  {
   "cell_type": "code",
   "execution_count": 14,
   "metadata": {},
   "outputs": [],
   "source": [
    "form_df = tables[0]"
   ]
  },
  {
   "cell_type": "code",
   "execution_count": 15,
   "metadata": {},
   "outputs": [],
   "source": [
    "xg_df = tables[1]"
   ]
  },
  {
   "cell_type": "code",
   "execution_count": 16,
   "metadata": {},
   "outputs": [],
   "source": [
    "narrow_stats = stats.iloc[:, :23]"
   ]
  },
  {
   "cell_type": "code",
   "execution_count": 17,
   "metadata": {},
   "outputs": [],
   "source": [
    "narrow_stats['HTHD'] = narrow_stats['HTHG'] - narrow_stats['HTAG']"
   ]
  },
  {
   "cell_type": "code",
   "execution_count": 18,
   "metadata": {},
   "outputs": [],
   "source": [
    "narrow_stats['FTHD'] = narrow_stats['FTHG'] - narrow_stats['FTAG']"
   ]
  },
  {
   "cell_type": "code",
   "execution_count": 19,
   "metadata": {},
   "outputs": [],
   "source": [
    "narrow_stats['HTAD'] = narrow_stats['HTAG'] - narrow_stats['HTHG']\n",
    "narrow_stats['FTAD'] = narrow_stats['FTAG'] - narrow_stats['FTHG']"
   ]
  },
  {
   "cell_type": "code",
   "execution_count": 20,
   "metadata": {},
   "outputs": [],
   "source": [
    "narrow_stats['HTT'] = narrow_stats['HTHG'] + narrow_stats['HTAG']\n",
    "narrow_stats['FTT'] = narrow_stats['FTHG'] + narrow_stats['FTAG']"
   ]
  },
  {
   "cell_type": "code",
   "execution_count": 21,
   "metadata": {},
   "outputs": [],
   "source": [
    "# fix discrepancy between dataframe team names\n",
    "narrow_stats = narrow_stats.replace('Hertha', 'Hertha Berlin')\n",
    "narrow_stats = narrow_stats.replace('Leverkusen', 'Bayer Leverkusen')\n",
    "narrow_stats = narrow_stats.replace('Dortmund','Borussia Dortmund' )\n",
    "narrow_stats = narrow_stats.replace('Schalke 04', 'FC Schalke 04')\n",
    "narrow_stats = narrow_stats.replace(\"M'gladbach\", 'Borussia Monchengladbach')\n",
    "narrow_stats = narrow_stats.replace( 'Ein Frankfurt', 'Eintracht Frankfurt')\n",
    "narrow_stats = narrow_stats.replace( 'Mainz', 'FSV Mainz')\n",
    "narrow_stats = narrow_stats.replace( 'Werder Bremen', 'SV Werder Bremen')\n",
    "narrow_stats = narrow_stats.replace( 'Wolfsburg', 'VfL Wolfsburg')\n",
    "narrow_stats = narrow_stats.replace( 'FC Koln', '1. FC Köln')"
   ]
  },
  {
   "cell_type": "code",
   "execution_count": 22,
   "metadata": {},
   "outputs": [],
   "source": [
    "# add shots, shots on target, fouls, cards, corners, corners given up\n",
    "teams_df = pd.DataFrame()\n",
    "teams_df['team'] = list(narrow_stats['HomeTeam'].unique())\n",
    "teams_df = teams_df.set_index('team')"
   ]
  },
  {
   "cell_type": "code",
   "execution_count": 23,
   "metadata": {},
   "outputs": [],
   "source": [
    "home_averages = narrow_stats.groupby('HomeTeam').mean()"
   ]
  },
  {
   "cell_type": "code",
   "execution_count": 24,
   "metadata": {},
   "outputs": [],
   "source": [
    "away_averages = narrow_stats.groupby('AwayTeam').mean()"
   ]
  },
  {
   "cell_type": "code",
   "execution_count": 25,
   "metadata": {},
   "outputs": [],
   "source": [
    "home_teams_df = teams_df.merge(home_averages, left_index=True, right_index=True)"
   ]
  },
  {
   "cell_type": "code",
   "execution_count": 26,
   "metadata": {},
   "outputs": [],
   "source": [
    "home_teams_df = home_teams_df.drop(['HF', 'AF', 'HR', 'AR', 'FTAD', 'HTAD'], axis=1)"
   ]
  },
  {
   "cell_type": "code",
   "execution_count": 27,
   "metadata": {},
   "outputs": [],
   "source": [
    "home_teams_df.columns = ['Goals', 'Goals Against', 'Half Time Goals', 'Half Time Goals Against', 'Shots For', \\\n",
    "                    'Shots Against', 'Shots on Target', 'Shots on Target Allowed', 'Corners', 'Corners Allowed', \\\n",
    "                    'Yellows', 'Opponent Yellows', 'Half Time Differential', 'Full Time Differential', 'Half Time Total', \\\n",
    "                    'Full Time Total']"
   ]
  },
  {
   "cell_type": "code",
   "execution_count": 28,
   "metadata": {},
   "outputs": [],
   "source": [
    "# standardize team names for xg_df\n",
    "xg_df = xg_df.replace('Hertha BSC', 'Hertha Berlin')\n",
    "xg_df = xg_df.replace('Leverkusen', 'Bayer Leverkusen')\n",
    "xg_df = xg_df.replace('Dortmund','Borussia Dortmund' )\n",
    "xg_df = xg_df.replace('Schalke 04', 'FC Schalke 04')\n",
    "xg_df = xg_df.replace(\"M'gladbach\", 'Borussia Monchengladbach')\n",
    "xg_df = xg_df.replace( 'Eint Frankfurt', 'Eintracht Frankfurt')\n",
    "xg_df = xg_df.replace( 'Mainz 05', 'FSV Mainz')\n",
    "xg_df = xg_df.replace( 'Werder Bremen', 'SV Werder Bremen')\n",
    "xg_df = xg_df.replace( 'Wolfsburg', 'VfL Wolfsburg')\n",
    "xg_df = xg_df.replace( 'Köln', '1. FC Köln')\n",
    "xg_df = xg_df.replace( 'Paderborn 07', 'Paderborn')\n",
    "xg_df = xg_df.replace('Düsseldorf','Fortuna Dusseldorf' )"
   ]
  },
  {
   "cell_type": "code",
   "execution_count": 29,
   "metadata": {},
   "outputs": [],
   "source": [
    "# standardize team names for form\n",
    "form_df = form_df.replace('Hertha BSC', 'Hertha Berlin')\n",
    "form_df = form_df.replace('Leverkusen', 'Bayer Leverkusen')\n",
    "form_df = form_df.replace('Dortmund','Borussia Dortmund' )\n",
    "form_df = form_df.replace('Schalke 04', 'FC Schalke 04')\n",
    "form_df = form_df.replace(\"M'gladbach\", 'Borussia Monchengladbach')\n",
    "form_df = form_df.replace( 'Eint Frankfurt', 'Eintracht Frankfurt')\n",
    "form_df = form_df.replace( 'Mainz 05', 'FSV Mainz')\n",
    "form_df = form_df.replace( 'Werder Bremen', 'SV Werder Bremen')\n",
    "form_df = form_df.replace( 'Wolfsburg', 'VfL Wolfsburg')\n",
    "form_df = form_df.replace( 'Köln', '1. FC Köln')\n",
    "form_df = form_df.replace('Düsseldorf','Fortuna Dusseldorf' )\n",
    "form_df = form_df.replace( 'Paderborn 07', 'Paderborn')"
   ]
  },
  {
   "cell_type": "code",
   "execution_count": 30,
   "metadata": {},
   "outputs": [],
   "source": [
    "# get home teams df and standardize team names\n",
    "home_teams_df = home_teams_df.reset_index().sort_values('index')\n",
    "home_teams_df = home_teams_df.set_index('index')"
   ]
  },
  {
   "cell_type": "code",
   "execution_count": 31,
   "metadata": {},
   "outputs": [],
   "source": [
    "away_teams_df = teams_df.merge(away_averages, left_index=True, right_index=True)"
   ]
  },
  {
   "cell_type": "code",
   "execution_count": 32,
   "metadata": {},
   "outputs": [],
   "source": [
    "away_teams_df = away_teams_df.drop(['HF', 'AF', 'HR', 'AR', 'FTHD', 'HTHD'], axis=1)"
   ]
  },
  {
   "cell_type": "code",
   "execution_count": 33,
   "metadata": {},
   "outputs": [],
   "source": [
    "away_teams_df.columns = ['Goals Against', 'Goals', 'Half Time Goals Against', 'Half Time Goals', 'Shots Against', 'Shots For', \\\n",
    "                         'Shots on Target Allowed', 'Shots on Target', 'Corners Allowed', 'Corners', 'Opponent Yellows', 'Yellows', \\\n",
    "                         'Half Time Differential', 'Full Time Differential', 'Half Time Total', 'Full Time Total']"
   ]
  },
  {
   "cell_type": "code",
   "execution_count": 34,
   "metadata": {},
   "outputs": [],
   "source": [
    "away_teams_df = away_teams_df.reset_index().sort_values('index')\n",
    "away_teams_df = away_teams_df.set_index('index')"
   ]
  },
  {
   "cell_type": "code",
   "execution_count": 35,
   "metadata": {},
   "outputs": [
    {
     "data": {
      "text/plain": [
       "['1. FC Köln',\n",
       " 'Augsburg',\n",
       " 'Bayer Leverkusen',\n",
       " 'Bayern Munich',\n",
       " 'Borussia Dortmund',\n",
       " 'Borussia Monchengladbach',\n",
       " 'Draw',\n",
       " 'Eintracht Frankfurt',\n",
       " 'FC Schalke 04',\n",
       " 'FSV Mainz',\n",
       " 'Freiburg',\n",
       " 'Hertha Berlin',\n",
       " 'Hoffenheim',\n",
       " 'Paderborn',\n",
       " 'RB Leipzig',\n",
       " 'SV Werder Bremen',\n",
       " 'Union Berlin',\n",
       " 'VfL Wolfsburg']"
      ]
     },
     "execution_count": 35,
     "metadata": {},
     "output_type": "execute_result"
    }
   ],
   "source": [
    "# team spellings to plug in\n",
    "sorted(team_names)"
   ]
  },
  {
   "cell_type": "code",
   "execution_count": 36,
   "metadata": {},
   "outputs": [],
   "source": [
    "# in Bovada Home team is on top and away team is on bottom\n",
    "from game_preview import game_preview\n",
    "home = 'Eintracht Frankfurt'\n",
    "away =  'Borussia Monchengladbach'"
   ]
  },
  {
   "cell_type": "code",
   "execution_count": 37,
   "metadata": {},
   "outputs": [],
   "source": [
    "gp = game_preview(home, away, home_teams_df, away_teams_df, form_df, xg_df, narrow_stats, betting_info)"
   ]
  },
  {
   "cell_type": "code",
   "execution_count": 38,
   "metadata": {},
   "outputs": [
    {
     "name": "stdout",
     "output_type": "stream",
     "text": [
      "Game Preview of Borussia Monchengladbach at Eintracht Frankfurt\n"
     ]
    }
   ],
   "source": [
    "print(gp)"
   ]
  },
  {
   "cell_type": "code",
   "execution_count": 39,
   "metadata": {
    "scrolled": true
   },
   "outputs": [
    {
     "name": "stderr",
     "output_type": "stream",
     "text": [
      "/Users/drewmacleod/Documents/Gambling/Bundesliga/gamble_env/lib/python3.6/site-packages/pandas/core/generic.py:3936: PerformanceWarning: dropping on a non-lexsorted multi-index without a level parameter may impact performance.\n",
      "  obj = obj._drop_axis(labels, axis, level=level, errors=errors)\n"
     ]
    },
    {
     "data": {
      "image/png": "[encoded data removed]",
      "text/plain": [
       "<Figure size 576x396 with 1 Axes>"
      ]
     },
     "metadata": {},
     "output_type": "display_data"
    },
    {
     "data": {
      "image/png": "[encoded data removed]",
      "text/plain": [
       "<Figure size 576x396 with 1 Axes>"
      ]
     },
     "metadata": {},
     "output_type": "display_data"
    }
   ],
   "source": [
    "gp.get_preview()"
   ]
  }
 ],
 "metadata": {
  "kernelspec": {
   "display_name": "Python 3",
   "language": "python",
   "name": "python3"
  },
  "language_info": {
   "codemirror_mode": {
    "name": "ipython",
    "version": 3
   },
   "file_extension": ".py",
   "mimetype": "text/x-python",
   "name": "python",
   "nbconvert_exporter": "python",
   "pygments_lexer": "ipython3",
   "version": "3.6.5"
  }
 },
 "nbformat": 4,
 "nbformat_minor": 2
}
